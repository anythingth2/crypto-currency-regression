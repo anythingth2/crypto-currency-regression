{
 "cells": [
  {
   "cell_type": "code",
   "execution_count": 1,
   "metadata": {},
   "outputs": [],
   "source": [
    "%matplotlib inline\n",
    "import numpy as np\n",
    "import pandas as pd\n",
    "import matplotlib.pyplot as plt\n",
    "import mplfinance.plotting as mpf\n",
    "import seaborn as sns\n",
    "import datetime\n",
    "import re\n",
    "import ccxt\n",
    "import pickle\n",
    "# pd.options.plotting.backend = \"plotly\""
   ]
  },
  {
   "cell_type": "code",
   "execution_count": 2,
   "metadata": {
    "ExecuteTime": {
     "end_time": "2021-05-30T12:00:22.170279Z",
     "start_time": "2021-05-30T12:00:22.094075Z"
    }
   },
   "outputs": [
    {
     "data": {
      "text/html": [
       "<div>\n",
       "<style scoped>\n",
       "    .dataframe tbody tr th:only-of-type {\n",
       "        vertical-align: middle;\n",
       "    }\n",
       "\n",
       "    .dataframe tbody tr th {\n",
       "        vertical-align: top;\n",
       "    }\n",
       "\n",
       "    .dataframe thead th {\n",
       "        text-align: right;\n",
       "    }\n",
       "</style>\n",
       "<table border=\"1\" class=\"dataframe\">\n",
       "  <thead>\n",
       "    <tr style=\"text-align: right;\">\n",
       "      <th></th>\n",
       "      <th>time</th>\n",
       "      <th>base_volume</th>\n",
       "      <th>quote_volume</th>\n",
       "      <th>close</th>\n",
       "      <th>high</th>\n",
       "      <th>low</th>\n",
       "      <th>open</th>\n",
       "    </tr>\n",
       "  </thead>\n",
       "  <tbody>\n",
       "    <tr>\n",
       "      <th>32620</th>\n",
       "      <td>2017-08-17 04:00:00</td>\n",
       "      <td>122.52000</td>\n",
       "      <td>3.673684e+04</td>\n",
       "      <td>300.79</td>\n",
       "      <td>652.74</td>\n",
       "      <td>298.00</td>\n",
       "      <td>652.74</td>\n",
       "    </tr>\n",
       "    <tr>\n",
       "      <th>32619</th>\n",
       "      <td>2017-08-17 05:00:00</td>\n",
       "      <td>377.67000</td>\n",
       "      <td>1.140433e+05</td>\n",
       "      <td>303.10</td>\n",
       "      <td>303.28</td>\n",
       "      <td>300.00</td>\n",
       "      <td>301.61</td>\n",
       "    </tr>\n",
       "    <tr>\n",
       "      <th>32618</th>\n",
       "      <td>2017-08-17 06:00:00</td>\n",
       "      <td>302.51000</td>\n",
       "      <td>9.162268e+04</td>\n",
       "      <td>302.68</td>\n",
       "      <td>304.44</td>\n",
       "      <td>301.90</td>\n",
       "      <td>303.10</td>\n",
       "    </tr>\n",
       "    <tr>\n",
       "      <th>32617</th>\n",
       "      <td>2017-08-17 07:00:00</td>\n",
       "      <td>753.19000</td>\n",
       "      <td>2.292483e+05</td>\n",
       "      <td>307.96</td>\n",
       "      <td>307.96</td>\n",
       "      <td>302.60</td>\n",
       "      <td>302.68</td>\n",
       "    </tr>\n",
       "    <tr>\n",
       "      <th>32616</th>\n",
       "      <td>2017-08-17 08:00:00</td>\n",
       "      <td>150.75000</td>\n",
       "      <td>4.655946e+04</td>\n",
       "      <td>308.62</td>\n",
       "      <td>309.97</td>\n",
       "      <td>307.00</td>\n",
       "      <td>307.96</td>\n",
       "    </tr>\n",
       "    <tr>\n",
       "      <th>...</th>\n",
       "      <td>...</td>\n",
       "      <td>...</td>\n",
       "      <td>...</td>\n",
       "      <td>...</td>\n",
       "      <td>...</td>\n",
       "      <td>...</td>\n",
       "      <td>...</td>\n",
       "    </tr>\n",
       "    <tr>\n",
       "      <th>4</th>\n",
       "      <td>2021-05-07 20:00:00</td>\n",
       "      <td>18632.39404</td>\n",
       "      <td>6.533341e+07</td>\n",
       "      <td>3497.20</td>\n",
       "      <td>3525.62</td>\n",
       "      <td>3476.04</td>\n",
       "      <td>3512.59</td>\n",
       "    </tr>\n",
       "    <tr>\n",
       "      <th>3</th>\n",
       "      <td>2021-05-07 21:00:00</td>\n",
       "      <td>21439.49414</td>\n",
       "      <td>7.456822e+07</td>\n",
       "      <td>3475.89</td>\n",
       "      <td>3497.80</td>\n",
       "      <td>3455.70</td>\n",
       "      <td>3497.17</td>\n",
       "    </tr>\n",
       "    <tr>\n",
       "      <th>2</th>\n",
       "      <td>2021-05-07 22:00:00</td>\n",
       "      <td>38829.22486</td>\n",
       "      <td>1.340210e+08</td>\n",
       "      <td>3443.00</td>\n",
       "      <td>3499.00</td>\n",
       "      <td>3421.11</td>\n",
       "      <td>3475.83</td>\n",
       "    </tr>\n",
       "    <tr>\n",
       "      <th>1</th>\n",
       "      <td>2021-05-07 23:00:00</td>\n",
       "      <td>19900.24004</td>\n",
       "      <td>6.908357e+07</td>\n",
       "      <td>3479.53</td>\n",
       "      <td>3489.00</td>\n",
       "      <td>3438.59</td>\n",
       "      <td>3442.19</td>\n",
       "    </tr>\n",
       "    <tr>\n",
       "      <th>0</th>\n",
       "      <td>2021-05-08 00:00:00</td>\n",
       "      <td>1345.89718</td>\n",
       "      <td>4.681927e+06</td>\n",
       "      <td>3476.59</td>\n",
       "      <td>3484.00</td>\n",
       "      <td>3472.44</td>\n",
       "      <td>3479.79</td>\n",
       "    </tr>\n",
       "  </tbody>\n",
       "</table>\n",
       "<p>32621 rows × 7 columns</p>\n",
       "</div>"
      ],
      "text/plain": [
       "                     time  base_volume  quote_volume    close     high  \\\n",
       "32620 2017-08-17 04:00:00    122.52000  3.673684e+04   300.79   652.74   \n",
       "32619 2017-08-17 05:00:00    377.67000  1.140433e+05   303.10   303.28   \n",
       "32618 2017-08-17 06:00:00    302.51000  9.162268e+04   302.68   304.44   \n",
       "32617 2017-08-17 07:00:00    753.19000  2.292483e+05   307.96   307.96   \n",
       "32616 2017-08-17 08:00:00    150.75000  4.655946e+04   308.62   309.97   \n",
       "...                   ...          ...           ...      ...      ...   \n",
       "4     2021-05-07 20:00:00  18632.39404  6.533341e+07  3497.20  3525.62   \n",
       "3     2021-05-07 21:00:00  21439.49414  7.456822e+07  3475.89  3497.80   \n",
       "2     2021-05-07 22:00:00  38829.22486  1.340210e+08  3443.00  3499.00   \n",
       "1     2021-05-07 23:00:00  19900.24004  6.908357e+07  3479.53  3489.00   \n",
       "0     2021-05-08 00:00:00   1345.89718  4.681927e+06  3476.59  3484.00   \n",
       "\n",
       "           low     open  \n",
       "32620   298.00   652.74  \n",
       "32619   300.00   301.61  \n",
       "32618   301.90   303.10  \n",
       "32617   302.60   302.68  \n",
       "32616   307.00   307.96  \n",
       "...        ...      ...  \n",
       "4      3476.04  3512.59  \n",
       "3      3455.70  3497.17  \n",
       "2      3421.11  3475.83  \n",
       "1      3438.59  3442.19  \n",
       "0      3472.44  3479.79  \n",
       "\n",
       "[32621 rows x 7 columns]"
      ]
     },
     "execution_count": 2,
     "metadata": {},
     "output_type": "execute_result"
    }
   ],
   "source": [
    "df = pd.read_csv('dataset/cryptdownload/Binance_ETHUSDT_1h.csv')\n",
    "df['time'] = pd.to_datetime(df['time'])\n",
    "df.sort_values('time', ascending=True, inplace=True)\n",
    "df.drop(columns=['symbol', 'tradecount'], inplace=True)\n",
    "df"
   ]
  },
  {
   "cell_type": "code",
   "execution_count": 3,
   "metadata": {
    "ExecuteTime": {
     "end_time": "2021-05-30T12:00:22.945785Z",
     "start_time": "2021-05-30T12:00:22.651571Z"
    }
   },
   "outputs": [
    {
     "data": {
      "text/plain": [
       "<matplotlib.axes._subplots.AxesSubplot at 0x125001ca0>"
      ]
     },
     "execution_count": 3,
     "metadata": {},
     "output_type": "execute_result"
    },
    {
     "data": {
      "image/png": "[encoded data removed]",
      "text/plain": [
       "<Figure size 432x288 with 1 Axes>"
      ]
     },
     "metadata": {
      "needs_background": "light"
     },
     "output_type": "display_data"
    }
   ],
   "source": [
    "df.plot(x='time', y='close')"
   ]
  },
  {
   "cell_type": "markdown",
   "metadata": {},
   "source": [
    "# Feature engineering"
   ]
  },
  {
   "cell_type": "code",
   "execution_count": 4,
   "metadata": {
    "ExecuteTime": {
     "end_time": "2021-05-30T12:00:26.373541Z",
     "start_time": "2021-05-30T12:00:26.369887Z"
    }
   },
   "outputs": [],
   "source": [
    "ORIGINAL_SIGNAL_COLUMNS = ['open', 'high', 'low', 'close']"
   ]
  },
  {
   "cell_type": "markdown",
   "metadata": {},
   "source": [
    "## Create target column"
   ]
  },
  {
   "cell_type": "code",
   "execution_count": 5,
   "metadata": {
    "ExecuteTime": {
     "end_time": "2021-05-30T12:00:26.886776Z",
     "start_time": "2021-05-30T12:00:26.862111Z"
    }
   },
   "outputs": [],
   "source": [
    "target_column = 'close'\n",
    "shifting_df = df[['time', 'close']].copy()\n",
    "shifting_df['time'] = shifting_df['time'] - pd.Timedelta(hours=1)\n",
    "\n",
    "last_datetime = df['time'].max() - pd.Timedelta(hours=1)\n",
    "df = df[df['time'] <= last_datetime]\n",
    "\n",
    "shifting_df.rename(columns={'close': 'next_close'}, inplace=True)\n",
    "df = df.merge(shifting_df, how='left', on='time')"
   ]
  },
  {
   "cell_type": "markdown",
   "metadata": {},
   "source": [
    "## Drop nan target "
   ]
  },
  {
   "cell_type": "code",
   "execution_count": 6,
   "metadata": {
    "ExecuteTime": {
     "end_time": "2021-05-30T12:00:27.583097Z",
     "start_time": "2021-05-30T12:00:27.573689Z"
    }
   },
   "outputs": [
    {
     "data": {
      "text/plain": [
       "time            0\n",
       "base_volume     0\n",
       "quote_volume    1\n",
       "close           0\n",
       "high            0\n",
       "low             0\n",
       "open            0\n",
       "next_close      8\n",
       "dtype: int64"
      ]
     },
     "execution_count": 6,
     "metadata": {},
     "output_type": "execute_result"
    }
   ],
   "source": [
    "df.isna().sum(axis=0)"
   ]
  },
  {
   "cell_type": "code",
   "execution_count": 7,
   "metadata": {
    "ExecuteTime": {
     "end_time": "2021-05-30T12:00:28.687265Z",
     "start_time": "2021-05-30T12:00:28.676043Z"
    }
   },
   "outputs": [
    {
     "data": {
      "text/plain": [
       "time            0\n",
       "base_volume     0\n",
       "quote_volume    1\n",
       "close           0\n",
       "high            0\n",
       "low             0\n",
       "open            0\n",
       "next_close      0\n",
       "dtype: int64"
      ]
     },
     "execution_count": 7,
     "metadata": {},
     "output_type": "execute_result"
    }
   ],
   "source": [
    "\n",
    "df.dropna(subset=['next_close'], inplace=True)\n",
    "df.isna().sum(axis=0)"
   ]
  },
  {
   "cell_type": "markdown",
   "metadata": {},
   "source": [
    "## Add Techinal Indicator"
   ]
  },
  {
   "cell_type": "code",
   "execution_count": null,
   "metadata": {},
   "outputs": [],
   "source": []
  },
  {
   "cell_type": "markdown",
   "metadata": {},
   "source": [
    "## Generate past signal data"
   ]
  },
  {
   "cell_type": "code",
   "execution_count": 10,
   "metadata": {
    "ExecuteTime": {
     "end_time": "2021-05-30T12:00:31.344508Z",
     "start_time": "2021-05-30T12:00:29.898581Z"
    }
   },
   "outputs": [
    {
     "ename": "KeyError",
     "evalue": "\"['time'] not in index\"",
     "output_type": "error",
     "traceback": [
      "\u001b[0;31m---------------------------------------------------------------------------\u001b[0m",
      "\u001b[0;31mKeyError\u001b[0m                                  Traceback (most recent call last)",
      "\u001b[0;32m<ipython-input-10-5d1250d9baf2>\u001b[0m in \u001b[0;36m<module>\u001b[0;34m\u001b[0m\n\u001b[1;32m     16\u001b[0m \u001b[0;31m# lookback_steps = [0, 1, 2, 3, 4]\u001b[0m\u001b[0;34m\u001b[0m\u001b[0;34m\u001b[0m\u001b[0;34m\u001b[0m\u001b[0m\n\u001b[1;32m     17\u001b[0m \u001b[0mlookback_steps\u001b[0m \u001b[0;34m=\u001b[0m \u001b[0mnp\u001b[0m\u001b[0;34m.\u001b[0m\u001b[0marange\u001b[0m\u001b[0;34m(\u001b[0m\u001b[0;36m48\u001b[0m\u001b[0;34m)\u001b[0m\u001b[0;34m\u001b[0m\u001b[0;34m\u001b[0m\u001b[0m\n\u001b[0;32m---> 18\u001b[0;31m \u001b[0mdf\u001b[0m \u001b[0;34m=\u001b[0m \u001b[0mgenerate_past_signal_data\u001b[0m\u001b[0;34m(\u001b[0m\u001b[0mdf\u001b[0m\u001b[0;34m,\u001b[0m \u001b[0mlookback_steps\u001b[0m\u001b[0;34m)\u001b[0m\u001b[0;34m\u001b[0m\u001b[0;34m\u001b[0m\u001b[0m\n\u001b[0m\u001b[1;32m     19\u001b[0m \u001b[0mdf\u001b[0m\u001b[0;34m.\u001b[0m\u001b[0mset_index\u001b[0m\u001b[0;34m(\u001b[0m\u001b[0;34m'time'\u001b[0m\u001b[0;34m,\u001b[0m \u001b[0minplace\u001b[0m\u001b[0;34m=\u001b[0m\u001b[0;32mTrue\u001b[0m\u001b[0;34m)\u001b[0m\u001b[0;34m\u001b[0m\u001b[0;34m\u001b[0m\u001b[0m\n",
      "\u001b[0;32m<ipython-input-10-5d1250d9baf2>\u001b[0m in \u001b[0;36mgenerate_past_signal_data\u001b[0;34m(df, lookback_steps)\u001b[0m\n\u001b[1;32m      1\u001b[0m \u001b[0;32mdef\u001b[0m \u001b[0mgenerate_past_signal_data\u001b[0m\u001b[0;34m(\u001b[0m\u001b[0mdf\u001b[0m\u001b[0;34m,\u001b[0m \u001b[0mlookback_steps\u001b[0m\u001b[0;34m)\u001b[0m\u001b[0;34m:\u001b[0m\u001b[0;34m\u001b[0m\u001b[0;34m\u001b[0m\u001b[0m\n\u001b[1;32m      2\u001b[0m \u001b[0;34m\u001b[0m\u001b[0m\n\u001b[0;32m----> 3\u001b[0;31m     \u001b[0mbase_df\u001b[0m \u001b[0;34m=\u001b[0m \u001b[0mdf\u001b[0m\u001b[0;34m[\u001b[0m\u001b[0;34m[\u001b[0m\u001b[0;34m'time'\u001b[0m\u001b[0;34m]\u001b[0m \u001b[0;34m+\u001b[0m \u001b[0mORIGINAL_SIGNAL_COLUMNS\u001b[0m\u001b[0;34m]\u001b[0m\u001b[0;34m\u001b[0m\u001b[0;34m\u001b[0m\u001b[0m\n\u001b[0m\u001b[1;32m      4\u001b[0m \u001b[0;34m\u001b[0m\u001b[0m\n\u001b[1;32m      5\u001b[0m     \u001b[0mfirst_datetime\u001b[0m \u001b[0;34m=\u001b[0m \u001b[0mdf\u001b[0m\u001b[0;34m[\u001b[0m\u001b[0;34m'time'\u001b[0m\u001b[0;34m]\u001b[0m\u001b[0;34m.\u001b[0m\u001b[0mmin\u001b[0m\u001b[0;34m(\u001b[0m\u001b[0;34m)\u001b[0m \u001b[0;34m+\u001b[0m \u001b[0mpd\u001b[0m\u001b[0;34m.\u001b[0m\u001b[0mTimedelta\u001b[0m\u001b[0;34m(\u001b[0m\u001b[0mhours\u001b[0m\u001b[0;34m=\u001b[0m\u001b[0mmax\u001b[0m\u001b[0;34m(\u001b[0m\u001b[0mlookback_steps\u001b[0m\u001b[0;34m)\u001b[0m\u001b[0;34m)\u001b[0m\u001b[0;34m\u001b[0m\u001b[0;34m\u001b[0m\u001b[0m\n",
      "\u001b[0;32m/usr/local/lib/python3.8/site-packages/pandas/core/frame.py\u001b[0m in \u001b[0;36m__getitem__\u001b[0;34m(self, key)\u001b[0m\n\u001b[1;32m   2804\u001b[0m             \u001b[0;32mif\u001b[0m \u001b[0mis_iterator\u001b[0m\u001b[0;34m(\u001b[0m\u001b[0mkey\u001b[0m\u001b[0;34m)\u001b[0m\u001b[0;34m:\u001b[0m\u001b[0;34m\u001b[0m\u001b[0;34m\u001b[0m\u001b[0m\n\u001b[1;32m   2805\u001b[0m                 \u001b[0mkey\u001b[0m \u001b[0;34m=\u001b[0m \u001b[0mlist\u001b[0m\u001b[0;34m(\u001b[0m\u001b[0mkey\u001b[0m\u001b[0;34m)\u001b[0m\u001b[0;34m\u001b[0m\u001b[0;34m\u001b[0m\u001b[0m\n\u001b[0;32m-> 2806\u001b[0;31m             \u001b[0mindexer\u001b[0m \u001b[0;34m=\u001b[0m \u001b[0mself\u001b[0m\u001b[0;34m.\u001b[0m\u001b[0mloc\u001b[0m\u001b[0;34m.\u001b[0m\u001b[0m_get_listlike_indexer\u001b[0m\u001b[0;34m(\u001b[0m\u001b[0mkey\u001b[0m\u001b[0;34m,\u001b[0m \u001b[0maxis\u001b[0m\u001b[0;34m=\u001b[0m\u001b[0;36m1\u001b[0m\u001b[0;34m,\u001b[0m \u001b[0mraise_missing\u001b[0m\u001b[0;34m=\u001b[0m\u001b[0;32mTrue\u001b[0m\u001b[0;34m)\u001b[0m\u001b[0;34m[\u001b[0m\u001b[0;36m1\u001b[0m\u001b[0;34m]\u001b[0m\u001b[0;34m\u001b[0m\u001b[0;34m\u001b[0m\u001b[0m\n\u001b[0m\u001b[1;32m   2807\u001b[0m \u001b[0;34m\u001b[0m\u001b[0m\n\u001b[1;32m   2808\u001b[0m         \u001b[0;31m# take() does not accept boolean indexers\u001b[0m\u001b[0;34m\u001b[0m\u001b[0;34m\u001b[0m\u001b[0;34m\u001b[0m\u001b[0m\n",
      "\u001b[0;32m/usr/local/lib/python3.8/site-packages/pandas/core/indexing.py\u001b[0m in \u001b[0;36m_get_listlike_indexer\u001b[0;34m(self, key, axis, raise_missing)\u001b[0m\n\u001b[1;32m   1550\u001b[0m             \u001b[0mkeyarr\u001b[0m\u001b[0;34m,\u001b[0m \u001b[0mindexer\u001b[0m\u001b[0;34m,\u001b[0m \u001b[0mnew_indexer\u001b[0m \u001b[0;34m=\u001b[0m \u001b[0max\u001b[0m\u001b[0;34m.\u001b[0m\u001b[0m_reindex_non_unique\u001b[0m\u001b[0;34m(\u001b[0m\u001b[0mkeyarr\u001b[0m\u001b[0;34m)\u001b[0m\u001b[0;34m\u001b[0m\u001b[0;34m\u001b[0m\u001b[0m\n\u001b[1;32m   1551\u001b[0m \u001b[0;34m\u001b[0m\u001b[0m\n\u001b[0;32m-> 1552\u001b[0;31m         self._validate_read_indexer(\n\u001b[0m\u001b[1;32m   1553\u001b[0m             \u001b[0mkeyarr\u001b[0m\u001b[0;34m,\u001b[0m \u001b[0mindexer\u001b[0m\u001b[0;34m,\u001b[0m \u001b[0mo\u001b[0m\u001b[0;34m.\u001b[0m\u001b[0m_get_axis_number\u001b[0m\u001b[0;34m(\u001b[0m\u001b[0maxis\u001b[0m\u001b[0;34m)\u001b[0m\u001b[0;34m,\u001b[0m \u001b[0mraise_missing\u001b[0m\u001b[0;34m=\u001b[0m\u001b[0mraise_missing\u001b[0m\u001b[0;34m\u001b[0m\u001b[0;34m\u001b[0m\u001b[0m\n\u001b[1;32m   1554\u001b[0m         )\n",
      "\u001b[0;32m/usr/local/lib/python3.8/site-packages/pandas/core/indexing.py\u001b[0m in \u001b[0;36m_validate_read_indexer\u001b[0;34m(self, key, indexer, axis, raise_missing)\u001b[0m\n\u001b[1;32m   1644\u001b[0m             \u001b[0;32mif\u001b[0m \u001b[0;32mnot\u001b[0m \u001b[0;34m(\u001b[0m\u001b[0mself\u001b[0m\u001b[0;34m.\u001b[0m\u001b[0mname\u001b[0m \u001b[0;34m==\u001b[0m \u001b[0;34m\"loc\"\u001b[0m \u001b[0;32mand\u001b[0m \u001b[0;32mnot\u001b[0m \u001b[0mraise_missing\u001b[0m\u001b[0;34m)\u001b[0m\u001b[0;34m:\u001b[0m\u001b[0;34m\u001b[0m\u001b[0;34m\u001b[0m\u001b[0m\n\u001b[1;32m   1645\u001b[0m                 \u001b[0mnot_found\u001b[0m \u001b[0;34m=\u001b[0m \u001b[0mlist\u001b[0m\u001b[0;34m(\u001b[0m\u001b[0mset\u001b[0m\u001b[0;34m(\u001b[0m\u001b[0mkey\u001b[0m\u001b[0;34m)\u001b[0m \u001b[0;34m-\u001b[0m \u001b[0mset\u001b[0m\u001b[0;34m(\u001b[0m\u001b[0max\u001b[0m\u001b[0;34m)\u001b[0m\u001b[0;34m)\u001b[0m\u001b[0;34m\u001b[0m\u001b[0;34m\u001b[0m\u001b[0m\n\u001b[0;32m-> 1646\u001b[0;31m                 \u001b[0;32mraise\u001b[0m \u001b[0mKeyError\u001b[0m\u001b[0;34m(\u001b[0m\u001b[0;34mf\"{not_found} not in index\"\u001b[0m\u001b[0;34m)\u001b[0m\u001b[0;34m\u001b[0m\u001b[0;34m\u001b[0m\u001b[0m\n\u001b[0m\u001b[1;32m   1647\u001b[0m \u001b[0;34m\u001b[0m\u001b[0m\n\u001b[1;32m   1648\u001b[0m             \u001b[0;31m# we skip the warning on Categorical/Interval\u001b[0m\u001b[0;34m\u001b[0m\u001b[0;34m\u001b[0m\u001b[0;34m\u001b[0m\u001b[0m\n",
      "\u001b[0;31mKeyError\u001b[0m: \"['time'] not in index\""
     ]
    }
   ],
   "source": [
    "def generate_past_signal_data(df, lookback_steps):\n",
    "    \n",
    "    base_df = df[['time'] + ORIGINAL_SIGNAL_COLUMNS]\n",
    "    \n",
    "    first_datetime = df['time'].min() + pd.Timedelta(hours=max(lookback_steps))\n",
    "    df = df[df['time'] >= first_datetime]\n",
    "    for lookback_step in lookback_steps:\n",
    "        shifting_df = base_df.copy()\n",
    "        shifting_df['time'] = shifting_df['time'] + pd.Timedelta(hours=lookback_step)\n",
    "        lookback_columns = [f'p{lookback_step}_{col}' for col in ORIGINAL_SIGNAL_COLUMNS]\n",
    "        shifting_df.rename(columns=dict(zip(ORIGINAL_SIGNAL_COLUMNS, lookback_columns)), inplace=True)\n",
    "        \n",
    "        df = df.merge(shifting_df, how='left', on='time')\n",
    "    return df\n",
    "\n",
    "# lookback_steps = [0, 1, 2, 3, 4]\n",
    "lookback_steps = np.arange(48)\n",
    "df = generate_past_signal_data(df, lookback_steps)\n",
    "df.set_index('time', inplace=True)"
   ]
  },
  {
   "cell_type": "code",
   "execution_count": null,
   "metadata": {
    "ExecuteTime": {
     "end_time": "2021-05-30T12:00:32.211331Z",
     "start_time": "2021-05-30T12:00:32.088164Z"
    }
   },
   "outputs": [],
   "source": [
    "def get_by_lookback_step(df, lookback_step):\n",
    "    return df.filter(regex=f'p{lookback_step}_')\n",
    "def get_by_lookback_steps(df, lookback_steps):\n",
    "    lookback_steps = list(map(str, lookback_steps))\n",
    "    return df.filter(regex=f'p({\"|\".join(lookback_steps)})_')\n",
    "def get_by_signal(df, signal_column):\n",
    "    return df.filter(regex=f'p\\d+_{signal_column}')\n",
    "def get_only_signal(df):\n",
    "    return df.filter(regex=f'p\\d+_.')\n",
    "# get_by_lookback_step(df, 1)\n",
    "# get_by_signal(df, 'close')\n",
    "get_only_signal(df)"
   ]
  },
  {
   "cell_type": "markdown",
   "metadata": {
    "ExecuteTime": {
     "end_time": "2021-05-08T20:34:25.164284Z",
     "start_time": "2021-05-08T20:34:25.152049Z"
    }
   },
   "source": [
    "## Normalize signal data"
   ]
  },
  {
   "cell_type": "markdown",
   "metadata": {},
   "source": [
    "### Min-Max Close of Individual window"
   ]
  },
  {
   "cell_type": "code",
   "execution_count": 11,
   "metadata": {
    "ExecuteTime": {
     "end_time": "2021-05-30T12:00:35.969152Z",
     "start_time": "2021-05-30T12:00:35.963171Z"
    }
   },
   "outputs": [],
   "source": [
    "class MinMaxCloseWindowScaler:\n",
    "    def fit(self, signal_df):\n",
    "        self.min_close = get_by_signal(signal_df, 'close').min(axis=1)\n",
    "        self.max_close = get_by_signal(signal_df, 'close').max(axis=1)\n",
    "    def transform(self, signal_df):\n",
    "        signal_df = signal_df.subtract(self.min_close, axis=0).div(self.max_close - self.min_close, axis=0)\n",
    "        return signal_df\n",
    "    def fit_transform(self, signal_df):\n",
    "        self.fit(signal_df)\n",
    "        return self.transform(signal_df)\n",
    "    def transform_target(self, target):\n",
    "        return (target - self.min_close) / (self.max_close - self.min_close)\n",
    "    def inverse_transform_target(self, target):\n",
    "        return target * (self.max_close - self.min_close) + self.min_close\n"
   ]
  },
  {
   "cell_type": "code",
   "execution_count": 12,
   "metadata": {
    "ExecuteTime": {
     "end_time": "2021-05-30T12:00:37.103263Z",
     "start_time": "2021-05-30T12:00:36.896882Z"
    }
   },
   "outputs": [
    {
     "data": {
      "text/html": [
       "<div>\n",
       "<style scoped>\n",
       "    .dataframe tbody tr th:only-of-type {\n",
       "        vertical-align: middle;\n",
       "    }\n",
       "\n",
       "    .dataframe tbody tr th {\n",
       "        vertical-align: top;\n",
       "    }\n",
       "\n",
       "    .dataframe thead th {\n",
       "        text-align: right;\n",
       "    }\n",
       "</style>\n",
       "<table border=\"1\" class=\"dataframe\">\n",
       "  <thead>\n",
       "    <tr style=\"text-align: right;\">\n",
       "      <th></th>\n",
       "      <th>base_volume</th>\n",
       "      <th>quote_volume</th>\n",
       "      <th>close</th>\n",
       "      <th>high</th>\n",
       "      <th>low</th>\n",
       "      <th>open</th>\n",
       "      <th>next_close</th>\n",
       "      <th>p0_open</th>\n",
       "      <th>p0_high</th>\n",
       "      <th>p0_low</th>\n",
       "      <th>...</th>\n",
       "      <th>p45_close</th>\n",
       "      <th>p46_open</th>\n",
       "      <th>p46_high</th>\n",
       "      <th>p46_low</th>\n",
       "      <th>p46_close</th>\n",
       "      <th>p47_open</th>\n",
       "      <th>p47_high</th>\n",
       "      <th>p47_low</th>\n",
       "      <th>p47_close</th>\n",
       "      <th>norm_next_close</th>\n",
       "    </tr>\n",
       "    <tr>\n",
       "      <th>time</th>\n",
       "      <th></th>\n",
       "      <th></th>\n",
       "      <th></th>\n",
       "      <th></th>\n",
       "      <th></th>\n",
       "      <th></th>\n",
       "      <th></th>\n",
       "      <th></th>\n",
       "      <th></th>\n",
       "      <th></th>\n",
       "      <th></th>\n",
       "      <th></th>\n",
       "      <th></th>\n",
       "      <th></th>\n",
       "      <th></th>\n",
       "      <th></th>\n",
       "      <th></th>\n",
       "      <th></th>\n",
       "      <th></th>\n",
       "      <th></th>\n",
       "      <th></th>\n",
       "    </tr>\n",
       "  </thead>\n",
       "  <tbody>\n",
       "    <tr>\n",
       "      <th>2017-08-19 03:00:00</th>\n",
       "      <td>66.65000</td>\n",
       "      <td>1.964252e+04</td>\n",
       "      <td>293.22</td>\n",
       "      <td>299.84</td>\n",
       "      <td>292.83</td>\n",
       "      <td>299.84</td>\n",
       "      <td>291.87</td>\n",
       "      <td>0.571308</td>\n",
       "      <td>0.571308</td>\n",
       "      <td>0.275527</td>\n",
       "      <td>...</td>\n",
       "      <td>0.691139</td>\n",
       "      <td>0.645992</td>\n",
       "      <td>0.716456</td>\n",
       "      <td>0.578059</td>\n",
       "      <td>0.708861</td>\n",
       "      <td>15.461603</td>\n",
       "      <td>15.461603</td>\n",
       "      <td>0.493671</td>\n",
       "      <td>0.611392</td>\n",
       "      <td>0.235021</td>\n",
       "    </tr>\n",
       "    <tr>\n",
       "      <th>2017-08-19 04:00:00</th>\n",
       "      <td>42.99000</td>\n",
       "      <td>1.263183e+04</td>\n",
       "      <td>291.87</td>\n",
       "      <td>297.19</td>\n",
       "      <td>291.87</td>\n",
       "      <td>293.22</td>\n",
       "      <td>293.23</td>\n",
       "      <td>0.291983</td>\n",
       "      <td>0.459494</td>\n",
       "      <td>0.235021</td>\n",
       "      <td>...</td>\n",
       "      <td>0.913924</td>\n",
       "      <td>0.708861</td>\n",
       "      <td>0.765401</td>\n",
       "      <td>0.658228</td>\n",
       "      <td>0.691139</td>\n",
       "      <td>0.645992</td>\n",
       "      <td>0.716456</td>\n",
       "      <td>0.578059</td>\n",
       "      <td>0.708861</td>\n",
       "      <td>0.292405</td>\n",
       "    </tr>\n",
       "    <tr>\n",
       "      <th>2017-08-19 05:00:00</th>\n",
       "      <td>35.01000</td>\n",
       "      <td>1.040870e+04</td>\n",
       "      <td>293.23</td>\n",
       "      <td>299.90</td>\n",
       "      <td>291.87</td>\n",
       "      <td>291.87</td>\n",
       "      <td>289.02</td>\n",
       "      <td>0.235021</td>\n",
       "      <td>0.573840</td>\n",
       "      <td>0.235021</td>\n",
       "      <td>...</td>\n",
       "      <td>0.941772</td>\n",
       "      <td>0.691139</td>\n",
       "      <td>0.913924</td>\n",
       "      <td>0.687764</td>\n",
       "      <td>0.913924</td>\n",
       "      <td>0.708861</td>\n",
       "      <td>0.765401</td>\n",
       "      <td>0.658228</td>\n",
       "      <td>0.691139</td>\n",
       "      <td>0.114768</td>\n",
       "    </tr>\n",
       "    <tr>\n",
       "      <th>2017-08-19 06:00:00</th>\n",
       "      <td>45.02000</td>\n",
       "      <td>1.316110e+04</td>\n",
       "      <td>289.02</td>\n",
       "      <td>295.56</td>\n",
       "      <td>289.02</td>\n",
       "      <td>293.23</td>\n",
       "      <td>290.16</td>\n",
       "      <td>0.292405</td>\n",
       "      <td>0.390717</td>\n",
       "      <td>0.114768</td>\n",
       "      <td>...</td>\n",
       "      <td>1.000000</td>\n",
       "      <td>0.913924</td>\n",
       "      <td>0.998734</td>\n",
       "      <td>0.873418</td>\n",
       "      <td>0.941772</td>\n",
       "      <td>0.691139</td>\n",
       "      <td>0.913924</td>\n",
       "      <td>0.687764</td>\n",
       "      <td>0.913924</td>\n",
       "      <td>0.162869</td>\n",
       "    </tr>\n",
       "    <tr>\n",
       "      <th>2017-08-19 07:00:00</th>\n",
       "      <td>112.26000</td>\n",
       "      <td>3.248597e+04</td>\n",
       "      <td>290.16</td>\n",
       "      <td>292.17</td>\n",
       "      <td>287.01</td>\n",
       "      <td>289.02</td>\n",
       "      <td>288.40</td>\n",
       "      <td>0.114768</td>\n",
       "      <td>0.247679</td>\n",
       "      <td>0.029958</td>\n",
       "      <td>...</td>\n",
       "      <td>0.970464</td>\n",
       "      <td>0.941772</td>\n",
       "      <td>1.084388</td>\n",
       "      <td>0.941772</td>\n",
       "      <td>1.000000</td>\n",
       "      <td>0.913924</td>\n",
       "      <td>0.998734</td>\n",
       "      <td>0.873418</td>\n",
       "      <td>0.941772</td>\n",
       "      <td>0.088608</td>\n",
       "    </tr>\n",
       "    <tr>\n",
       "      <th>...</th>\n",
       "      <td>...</td>\n",
       "      <td>...</td>\n",
       "      <td>...</td>\n",
       "      <td>...</td>\n",
       "      <td>...</td>\n",
       "      <td>...</td>\n",
       "      <td>...</td>\n",
       "      <td>...</td>\n",
       "      <td>...</td>\n",
       "      <td>...</td>\n",
       "      <td>...</td>\n",
       "      <td>...</td>\n",
       "      <td>...</td>\n",
       "      <td>...</td>\n",
       "      <td>...</td>\n",
       "      <td>...</td>\n",
       "      <td>...</td>\n",
       "      <td>...</td>\n",
       "      <td>...</td>\n",
       "      <td>...</td>\n",
       "      <td>...</td>\n",
       "    </tr>\n",
       "    <tr>\n",
       "      <th>2021-05-07 19:00:00</th>\n",
       "      <td>22844.22755</td>\n",
       "      <td>8.026408e+07</td>\n",
       "      <td>3512.59</td>\n",
       "      <td>3533.76</td>\n",
       "      <td>3498.28</td>\n",
       "      <td>3525.90</td>\n",
       "      <td>3497.20</td>\n",
       "      <td>0.791414</td>\n",
       "      <td>0.838216</td>\n",
       "      <td>0.626950</td>\n",
       "      <td>...</td>\n",
       "      <td>0.764618</td>\n",
       "      <td>0.393414</td>\n",
       "      <td>0.436644</td>\n",
       "      <td>0.160831</td>\n",
       "      <td>0.198702</td>\n",
       "      <td>0.521079</td>\n",
       "      <td>0.547160</td>\n",
       "      <td>0.114684</td>\n",
       "      <td>0.394962</td>\n",
       "      <td>0.620519</td>\n",
       "    </tr>\n",
       "    <tr>\n",
       "      <th>2021-05-07 20:00:00</th>\n",
       "      <td>18632.39404</td>\n",
       "      <td>6.533341e+07</td>\n",
       "      <td>3497.20</td>\n",
       "      <td>3525.62</td>\n",
       "      <td>3476.04</td>\n",
       "      <td>3512.59</td>\n",
       "      <td>3475.89</td>\n",
       "      <td>0.712159</td>\n",
       "      <td>0.789746</td>\n",
       "      <td>0.494522</td>\n",
       "      <td>...</td>\n",
       "      <td>0.781648</td>\n",
       "      <td>0.198702</td>\n",
       "      <td>0.858283</td>\n",
       "      <td>0.196677</td>\n",
       "      <td>0.764618</td>\n",
       "      <td>0.393414</td>\n",
       "      <td>0.436644</td>\n",
       "      <td>0.160831</td>\n",
       "      <td>0.198702</td>\n",
       "      <td>0.493629</td>\n",
       "    </tr>\n",
       "    <tr>\n",
       "      <th>2021-05-07 21:00:00</th>\n",
       "      <td>21439.49414</td>\n",
       "      <td>7.456822e+07</td>\n",
       "      <td>3475.89</td>\n",
       "      <td>3497.80</td>\n",
       "      <td>3455.70</td>\n",
       "      <td>3497.17</td>\n",
       "      <td>3443.00</td>\n",
       "      <td>0.620341</td>\n",
       "      <td>0.624092</td>\n",
       "      <td>0.373407</td>\n",
       "      <td>...</td>\n",
       "      <td>0.492200</td>\n",
       "      <td>0.762415</td>\n",
       "      <td>0.930987</td>\n",
       "      <td>0.602001</td>\n",
       "      <td>0.781648</td>\n",
       "      <td>0.198702</td>\n",
       "      <td>0.858283</td>\n",
       "      <td>0.196677</td>\n",
       "      <td>0.764618</td>\n",
       "      <td>0.297785</td>\n",
       "    </tr>\n",
       "    <tr>\n",
       "      <th>2021-05-07 22:00:00</th>\n",
       "      <td>38829.22486</td>\n",
       "      <td>1.340210e+08</td>\n",
       "      <td>3443.00</td>\n",
       "      <td>3499.00</td>\n",
       "      <td>3421.11</td>\n",
       "      <td>3475.83</td>\n",
       "      <td>3479.53</td>\n",
       "      <td>0.493271</td>\n",
       "      <td>0.631237</td>\n",
       "      <td>0.167441</td>\n",
       "      <td>...</td>\n",
       "      <td>0.488746</td>\n",
       "      <td>0.782065</td>\n",
       "      <td>0.870609</td>\n",
       "      <td>0.334822</td>\n",
       "      <td>0.492200</td>\n",
       "      <td>0.762415</td>\n",
       "      <td>0.930987</td>\n",
       "      <td>0.602001</td>\n",
       "      <td>0.781648</td>\n",
       "      <td>0.515303</td>\n",
       "    </tr>\n",
       "    <tr>\n",
       "      <th>2021-05-07 23:00:00</th>\n",
       "      <td>19900.24004</td>\n",
       "      <td>6.908357e+07</td>\n",
       "      <td>3479.53</td>\n",
       "      <td>3489.00</td>\n",
       "      <td>3438.59</td>\n",
       "      <td>3442.19</td>\n",
       "      <td>3476.59</td>\n",
       "      <td>0.292962</td>\n",
       "      <td>0.571692</td>\n",
       "      <td>0.271526</td>\n",
       "      <td>...</td>\n",
       "      <td>0.545671</td>\n",
       "      <td>0.492140</td>\n",
       "      <td>0.611111</td>\n",
       "      <td>0.280934</td>\n",
       "      <td>0.488746</td>\n",
       "      <td>0.782065</td>\n",
       "      <td>0.870609</td>\n",
       "      <td>0.334822</td>\n",
       "      <td>0.492200</td>\n",
       "      <td>0.497797</td>\n",
       "    </tr>\n",
       "  </tbody>\n",
       "</table>\n",
       "<p>32565 rows × 200 columns</p>\n",
       "</div>"
      ],
      "text/plain": [
       "                     base_volume  quote_volume    close     high      low  \\\n",
       "time                                                                        \n",
       "2017-08-19 03:00:00     66.65000  1.964252e+04   293.22   299.84   292.83   \n",
       "2017-08-19 04:00:00     42.99000  1.263183e+04   291.87   297.19   291.87   \n",
       "2017-08-19 05:00:00     35.01000  1.040870e+04   293.23   299.90   291.87   \n",
       "2017-08-19 06:00:00     45.02000  1.316110e+04   289.02   295.56   289.02   \n",
       "2017-08-19 07:00:00    112.26000  3.248597e+04   290.16   292.17   287.01   \n",
       "...                          ...           ...      ...      ...      ...   \n",
       "2021-05-07 19:00:00  22844.22755  8.026408e+07  3512.59  3533.76  3498.28   \n",
       "2021-05-07 20:00:00  18632.39404  6.533341e+07  3497.20  3525.62  3476.04   \n",
       "2021-05-07 21:00:00  21439.49414  7.456822e+07  3475.89  3497.80  3455.70   \n",
       "2021-05-07 22:00:00  38829.22486  1.340210e+08  3443.00  3499.00  3421.11   \n",
       "2021-05-07 23:00:00  19900.24004  6.908357e+07  3479.53  3489.00  3438.59   \n",
       "\n",
       "                        open  next_close   p0_open   p0_high    p0_low  ...  \\\n",
       "time                                                                    ...   \n",
       "2017-08-19 03:00:00   299.84      291.87  0.571308  0.571308  0.275527  ...   \n",
       "2017-08-19 04:00:00   293.22      293.23  0.291983  0.459494  0.235021  ...   \n",
       "2017-08-19 05:00:00   291.87      289.02  0.235021  0.573840  0.235021  ...   \n",
       "2017-08-19 06:00:00   293.23      290.16  0.292405  0.390717  0.114768  ...   \n",
       "2017-08-19 07:00:00   289.02      288.40  0.114768  0.247679  0.029958  ...   \n",
       "...                      ...         ...       ...       ...       ...  ...   \n",
       "2021-05-07 19:00:00  3525.90     3497.20  0.791414  0.838216  0.626950  ...   \n",
       "2021-05-07 20:00:00  3512.59     3475.89  0.712159  0.789746  0.494522  ...   \n",
       "2021-05-07 21:00:00  3497.17     3443.00  0.620341  0.624092  0.373407  ...   \n",
       "2021-05-07 22:00:00  3475.83     3479.53  0.493271  0.631237  0.167441  ...   \n",
       "2021-05-07 23:00:00  3442.19     3476.59  0.292962  0.571692  0.271526  ...   \n",
       "\n",
       "                     p45_close  p46_open  p46_high   p46_low  p46_close  \\\n",
       "time                                                                      \n",
       "2017-08-19 03:00:00   0.691139  0.645992  0.716456  0.578059   0.708861   \n",
       "2017-08-19 04:00:00   0.913924  0.708861  0.765401  0.658228   0.691139   \n",
       "2017-08-19 05:00:00   0.941772  0.691139  0.913924  0.687764   0.913924   \n",
       "2017-08-19 06:00:00   1.000000  0.913924  0.998734  0.873418   0.941772   \n",
       "2017-08-19 07:00:00   0.970464  0.941772  1.084388  0.941772   1.000000   \n",
       "...                        ...       ...       ...       ...        ...   \n",
       "2021-05-07 19:00:00   0.764618  0.393414  0.436644  0.160831   0.198702   \n",
       "2021-05-07 20:00:00   0.781648  0.198702  0.858283  0.196677   0.764618   \n",
       "2021-05-07 21:00:00   0.492200  0.762415  0.930987  0.602001   0.781648   \n",
       "2021-05-07 22:00:00   0.488746  0.782065  0.870609  0.334822   0.492200   \n",
       "2021-05-07 23:00:00   0.545671  0.492140  0.611111  0.280934   0.488746   \n",
       "\n",
       "                      p47_open   p47_high   p47_low  p47_close  \\\n",
       "time                                                             \n",
       "2017-08-19 03:00:00  15.461603  15.461603  0.493671   0.611392   \n",
       "2017-08-19 04:00:00   0.645992   0.716456  0.578059   0.708861   \n",
       "2017-08-19 05:00:00   0.708861   0.765401  0.658228   0.691139   \n",
       "2017-08-19 06:00:00   0.691139   0.913924  0.687764   0.913924   \n",
       "2017-08-19 07:00:00   0.913924   0.998734  0.873418   0.941772   \n",
       "...                        ...        ...       ...        ...   \n",
       "2021-05-07 19:00:00   0.521079   0.547160  0.114684   0.394962   \n",
       "2021-05-07 20:00:00   0.393414   0.436644  0.160831   0.198702   \n",
       "2021-05-07 21:00:00   0.198702   0.858283  0.196677   0.764618   \n",
       "2021-05-07 22:00:00   0.762415   0.930987  0.602001   0.781648   \n",
       "2021-05-07 23:00:00   0.782065   0.870609  0.334822   0.492200   \n",
       "\n",
       "                     norm_next_close  \n",
       "time                                  \n",
       "2017-08-19 03:00:00         0.235021  \n",
       "2017-08-19 04:00:00         0.292405  \n",
       "2017-08-19 05:00:00         0.114768  \n",
       "2017-08-19 06:00:00         0.162869  \n",
       "2017-08-19 07:00:00         0.088608  \n",
       "...                              ...  \n",
       "2021-05-07 19:00:00         0.620519  \n",
       "2021-05-07 20:00:00         0.493629  \n",
       "2021-05-07 21:00:00         0.297785  \n",
       "2021-05-07 22:00:00         0.515303  \n",
       "2021-05-07 23:00:00         0.497797  \n",
       "\n",
       "[32565 rows x 200 columns]"
      ]
     },
     "execution_count": 12,
     "metadata": {},
     "output_type": "execute_result"
    }
   ],
   "source": [
    "_df = df.copy()\n",
    "signal_df = get_only_signal(_df)\n",
    "\n",
    "min_max_close_window_scaler = MinMaxCloseWindowScaler()\n",
    "_df[signal_df.columns] = min_max_close_window_scaler.fit_transform(signal_df)\n",
    "_df['norm_next_close'] = min_max_close_window_scaler.transform_target(_df['next_close'])\n",
    "_df"
   ]
  },
  {
   "cell_type": "code",
   "execution_count": 13,
   "metadata": {
    "ExecuteTime": {
     "end_time": "2021-05-30T12:00:38.832044Z",
     "start_time": "2021-05-30T12:00:38.162967Z"
    }
   },
   "outputs": [
    {
     "name": "stderr",
     "output_type": "stream",
     "text": [
      "/usr/local/lib/python3.8/site-packages/numpy/core/_asarray.py:83: VisibleDeprecationWarning: Creating an ndarray from ragged nested sequences (which is a list-or-tuple of lists-or-tuples-or ndarrays with different lengths or shapes) is deprecated. If you meant to do this, you must specify 'dtype=object' when creating the ndarray\n",
      "  return array(a, dtype, copy=False, order=order)\n"
     ]
    },
    {
     "data": {
      "text/plain": [
       "<matplotlib.axes._subplots.AxesSubplot at 0x125274430>"
      ]
     },
     "execution_count": 13,
     "metadata": {},
     "output_type": "execute_result"
    },
    {
     "data": {
      "image/png": "[encoded data removed]",
      "text/plain": [
       "<Figure size 432x288 with 1 Axes>"
      ]
     },
     "metadata": {
      "needs_background": "light"
     },
     "output_type": "display_data"
    }
   ],
   "source": [
    "sampled_lookback_steps = np.linspace(0, max(lookback_steps), 8).astype(int)\n",
    "\n",
    "get_by_lookback_steps(_df, sampled_lookback_steps).plot.box()"
   ]
  },
  {
   "cell_type": "code",
   "execution_count": 14,
   "metadata": {
    "ExecuteTime": {
     "end_time": "2021-05-30T12:00:40.019416Z",
     "start_time": "2021-05-30T12:00:39.857898Z"
    }
   },
   "outputs": [
    {
     "data": {
      "text/plain": [
       "<matplotlib.axes._subplots.AxesSubplot at 0x1257eebb0>"
      ]
     },
     "execution_count": 14,
     "metadata": {},
     "output_type": "execute_result"
    },
    {
     "data": {
      "image/png": "[encoded data removed]",
      "text/plain": [
       "<Figure size 432x288 with 1 Axes>"
      ]
     },
     "metadata": {
      "needs_background": "light"
     },
     "output_type": "display_data"
    }
   ],
   "source": [
    "_df['norm_next_close'].hist()"
   ]
  },
  {
   "cell_type": "code",
   "execution_count": 15,
   "metadata": {
    "ExecuteTime": {
     "end_time": "2021-05-30T12:00:41.355836Z",
     "start_time": "2021-05-30T12:00:41.038162Z"
    }
   },
   "outputs": [
    {
     "data": {
      "text/plain": [
       "<matplotlib.axes._subplots.AxesSubplot at 0x12584b820>"
      ]
     },
     "execution_count": 15,
     "metadata": {},
     "output_type": "execute_result"
    },
    {
     "data": {
      "image/png": "[encoded data removed]",
      "text/plain": [
       "<Figure size 432x288 with 1 Axes>"
      ]
     },
     "metadata": {
      "needs_background": "light"
     },
     "output_type": "display_data"
    }
   ],
   "source": [
    "_df.plot(x='p0_close', y='norm_next_close', kind='scatter')"
   ]
  },
  {
   "cell_type": "code",
   "execution_count": 16,
   "metadata": {
    "ExecuteTime": {
     "end_time": "2021-05-30T12:00:42.544230Z",
     "start_time": "2021-05-30T12:00:42.374583Z"
    }
   },
   "outputs": [
    {
     "data": {
      "text/plain": [
       "<matplotlib.axes._subplots.AxesSubplot at 0x125517d90>"
      ]
     },
     "execution_count": 16,
     "metadata": {},
     "output_type": "execute_result"
    },
    {
     "data": {
      "image/png": "[encoded data removed]",
      "text/plain": [
       "<Figure size 432x288 with 1 Axes>"
      ]
     },
     "metadata": {
      "needs_background": "light"
     },
     "output_type": "display_data"
    }
   ],
   "source": [
    "(_df['norm_next_close'] - _df['p0_close']).hist()"
   ]
  },
  {
   "cell_type": "code",
   "execution_count": 17,
   "metadata": {
    "ExecuteTime": {
     "end_time": "2021-05-30T12:00:44.738479Z",
     "start_time": "2021-05-30T12:00:44.727960Z"
    }
   },
   "outputs": [
    {
     "data": {
      "text/plain": [
       "count    32565.000000\n",
       "mean         0.001207\n",
       "std          0.142018\n",
       "min         -3.476744\n",
       "25%         -0.056950\n",
       "50%          0.001366\n",
       "75%          0.060297\n",
       "max          3.803987\n",
       "dtype: float64"
      ]
     },
     "execution_count": 17,
     "metadata": {},
     "output_type": "execute_result"
    }
   ],
   "source": [
    "(_df['norm_next_close'] - _df['p0_close']).describe()"
   ]
  },
  {
   "cell_type": "markdown",
   "metadata": {},
   "source": [
    "### Standardize Close of Individual Window"
   ]
  },
  {
   "cell_type": "code",
   "execution_count": 18,
   "metadata": {
    "ExecuteTime": {
     "end_time": "2021-05-30T12:00:47.618541Z",
     "start_time": "2021-05-30T12:00:47.611886Z"
    }
   },
   "outputs": [],
   "source": [
    "class StandardizeCloseWindowScaler:\n",
    "    def fit(self, signal_df):\n",
    "        self.mean = get_by_signal(signal_df, 'close').mean(axis=1)\n",
    "        self.std = get_by_signal(signal_df, 'close').std(axis=1)\n",
    "    def transform(self, signal_df):\n",
    "        signal_df = signal_df.subtract(self.mean, axis=0).div(self.std, axis=0)\n",
    "        return signal_df\n",
    "    def fit_transform(self, signal_df):\n",
    "        self.fit(signal_df)\n",
    "        return self.transform(signal_df)\n",
    "    def transform_target(self, target):\n",
    "        return (target - self.mean) / self.std\n",
    "    def inverse_transform_target(self, target):\n",
    "        return target * self.std + self.mean\n"
   ]
  },
  {
   "cell_type": "code",
   "execution_count": 19,
   "metadata": {
    "ExecuteTime": {
     "end_time": "2021-05-30T12:00:48.987288Z",
     "start_time": "2021-05-30T12:00:48.813301Z"
    }
   },
   "outputs": [
    {
     "data": {
      "text/html": [
       "<div>\n",
       "<style scoped>\n",
       "    .dataframe tbody tr th:only-of-type {\n",
       "        vertical-align: middle;\n",
       "    }\n",
       "\n",
       "    .dataframe tbody tr th {\n",
       "        vertical-align: top;\n",
       "    }\n",
       "\n",
       "    .dataframe thead th {\n",
       "        text-align: right;\n",
       "    }\n",
       "</style>\n",
       "<table border=\"1\" class=\"dataframe\">\n",
       "  <thead>\n",
       "    <tr style=\"text-align: right;\">\n",
       "      <th></th>\n",
       "      <th>base_volume</th>\n",
       "      <th>quote_volume</th>\n",
       "      <th>close</th>\n",
       "      <th>high</th>\n",
       "      <th>low</th>\n",
       "      <th>open</th>\n",
       "      <th>next_close</th>\n",
       "      <th>p0_open</th>\n",
       "      <th>p0_high</th>\n",
       "      <th>p0_low</th>\n",
       "      <th>...</th>\n",
       "      <th>p45_close</th>\n",
       "      <th>p46_open</th>\n",
       "      <th>p46_high</th>\n",
       "      <th>p46_low</th>\n",
       "      <th>p46_close</th>\n",
       "      <th>p47_open</th>\n",
       "      <th>p47_high</th>\n",
       "      <th>p47_low</th>\n",
       "      <th>p47_close</th>\n",
       "      <th>norm_next_close</th>\n",
       "    </tr>\n",
       "    <tr>\n",
       "      <th>time</th>\n",
       "      <th></th>\n",
       "      <th></th>\n",
       "      <th></th>\n",
       "      <th></th>\n",
       "      <th></th>\n",
       "      <th></th>\n",
       "      <th></th>\n",
       "      <th></th>\n",
       "      <th></th>\n",
       "      <th></th>\n",
       "      <th></th>\n",
       "      <th></th>\n",
       "      <th></th>\n",
       "      <th></th>\n",
       "      <th></th>\n",
       "      <th></th>\n",
       "      <th></th>\n",
       "      <th></th>\n",
       "      <th></th>\n",
       "      <th></th>\n",
       "      <th></th>\n",
       "    </tr>\n",
       "  </thead>\n",
       "  <tbody>\n",
       "    <tr>\n",
       "      <th>2017-08-19 03:00:00</th>\n",
       "      <td>66.65000</td>\n",
       "      <td>1.964252e+04</td>\n",
       "      <td>293.22</td>\n",
       "      <td>299.84</td>\n",
       "      <td>292.83</td>\n",
       "      <td>299.84</td>\n",
       "      <td>291.87</td>\n",
       "      <td>-0.457900</td>\n",
       "      <td>-0.457900</td>\n",
       "      <td>-1.611496</td>\n",
       "      <td>...</td>\n",
       "      <td>0.009462</td>\n",
       "      <td>-0.166621</td>\n",
       "      <td>0.108201</td>\n",
       "      <td>-0.431570</td>\n",
       "      <td>0.078579</td>\n",
       "      <td>57.616839</td>\n",
       "      <td>57.616839</td>\n",
       "      <td>-0.760698</td>\n",
       "      <td>-0.301564</td>\n",
       "      <td>-1.769478</td>\n",
       "    </tr>\n",
       "    <tr>\n",
       "      <th>2017-08-19 04:00:00</th>\n",
       "      <td>42.99000</td>\n",
       "      <td>1.263183e+04</td>\n",
       "      <td>291.87</td>\n",
       "      <td>297.19</td>\n",
       "      <td>291.87</td>\n",
       "      <td>293.22</td>\n",
       "      <td>293.23</td>\n",
       "      <td>-1.470599</td>\n",
       "      <td>-0.837151</td>\n",
       "      <td>-1.686003</td>\n",
       "      <td>...</td>\n",
       "      <td>0.881295</td>\n",
       "      <td>0.105841</td>\n",
       "      <td>0.319649</td>\n",
       "      <td>-0.085630</td>\n",
       "      <td>0.038826</td>\n",
       "      <td>-0.131902</td>\n",
       "      <td>0.134561</td>\n",
       "      <td>-0.388791</td>\n",
       "      <td>0.105841</td>\n",
       "      <td>-1.469003</td>\n",
       "    </tr>\n",
       "    <tr>\n",
       "      <th>2017-08-19 05:00:00</th>\n",
       "      <td>35.01000</td>\n",
       "      <td>1.040870e+04</td>\n",
       "      <td>293.23</td>\n",
       "      <td>299.90</td>\n",
       "      <td>291.87</td>\n",
       "      <td>291.87</td>\n",
       "      <td>289.02</td>\n",
       "      <td>-1.617535</td>\n",
       "      <td>-0.363915</td>\n",
       "      <td>-1.617535</td>\n",
       "      <td>...</td>\n",
       "      <td>0.997425</td>\n",
       "      <td>0.070090</td>\n",
       "      <td>0.894388</td>\n",
       "      <td>0.057601</td>\n",
       "      <td>0.894388</td>\n",
       "      <td>0.135659</td>\n",
       "      <td>0.344856</td>\n",
       "      <td>-0.051681</td>\n",
       "      <td>0.070090</td>\n",
       "      <td>-2.062468</td>\n",
       "    </tr>\n",
       "    <tr>\n",
       "      <th>2017-08-19 06:00:00</th>\n",
       "      <td>45.02000</td>\n",
       "      <td>1.316110e+04</td>\n",
       "      <td>289.02</td>\n",
       "      <td>295.56</td>\n",
       "      <td>289.02</td>\n",
       "      <td>293.23</td>\n",
       "      <td>290.16</td>\n",
       "      <td>-1.304364</td>\n",
       "      <td>-0.955694</td>\n",
       "      <td>-1.934365</td>\n",
       "      <td>...</td>\n",
       "      <td>1.205163</td>\n",
       "      <td>0.899889</td>\n",
       "      <td>1.200673</td>\n",
       "      <td>0.756231</td>\n",
       "      <td>0.998654</td>\n",
       "      <td>0.109770</td>\n",
       "      <td>0.899889</td>\n",
       "      <td>0.097798</td>\n",
       "      <td>0.899889</td>\n",
       "      <td>-1.763771</td>\n",
       "    </tr>\n",
       "    <tr>\n",
       "      <th>2017-08-19 07:00:00</th>\n",
       "      <td>112.26000</td>\n",
       "      <td>3.248597e+04</td>\n",
       "      <td>290.16</td>\n",
       "      <td>292.17</td>\n",
       "      <td>287.01</td>\n",
       "      <td>289.02</td>\n",
       "      <td>288.40</td>\n",
       "      <td>-1.837257</td>\n",
       "      <td>-1.376319</td>\n",
       "      <td>-2.131379</td>\n",
       "      <td>...</td>\n",
       "      <td>1.130303</td>\n",
       "      <td>1.030799</td>\n",
       "      <td>1.525392</td>\n",
       "      <td>1.030799</td>\n",
       "      <td>1.232734</td>\n",
       "      <td>0.934222</td>\n",
       "      <td>1.228344</td>\n",
       "      <td>0.793745</td>\n",
       "      <td>1.030799</td>\n",
       "      <td>-1.927981</td>\n",
       "    </tr>\n",
       "    <tr>\n",
       "      <th>...</th>\n",
       "      <td>...</td>\n",
       "      <td>...</td>\n",
       "      <td>...</td>\n",
       "      <td>...</td>\n",
       "      <td>...</td>\n",
       "      <td>...</td>\n",
       "      <td>...</td>\n",
       "      <td>...</td>\n",
       "      <td>...</td>\n",
       "      <td>...</td>\n",
       "      <td>...</td>\n",
       "      <td>...</td>\n",
       "      <td>...</td>\n",
       "      <td>...</td>\n",
       "      <td>...</td>\n",
       "      <td>...</td>\n",
       "      <td>...</td>\n",
       "      <td>...</td>\n",
       "      <td>...</td>\n",
       "      <td>...</td>\n",
       "      <td>...</td>\n",
       "    </tr>\n",
       "    <tr>\n",
       "      <th>2021-05-07 19:00:00</th>\n",
       "      <td>22844.22755</td>\n",
       "      <td>8.026408e+07</td>\n",
       "      <td>3512.59</td>\n",
       "      <td>3533.76</td>\n",
       "      <td>3498.28</td>\n",
       "      <td>3525.90</td>\n",
       "      <td>3497.20</td>\n",
       "      <td>1.122488</td>\n",
       "      <td>1.310846</td>\n",
       "      <td>0.460600</td>\n",
       "      <td>...</td>\n",
       "      <td>1.014650</td>\n",
       "      <td>-0.479272</td>\n",
       "      <td>-0.305293</td>\n",
       "      <td>-1.415309</td>\n",
       "      <td>-1.262898</td>\n",
       "      <td>0.034518</td>\n",
       "      <td>0.139481</td>\n",
       "      <td>-1.601031</td>\n",
       "      <td>-0.473041</td>\n",
       "      <td>0.434719</td>\n",
       "    </tr>\n",
       "    <tr>\n",
       "      <th>2021-05-07 20:00:00</th>\n",
       "      <td>18632.39404</td>\n",
       "      <td>6.533341e+07</td>\n",
       "      <td>3497.20</td>\n",
       "      <td>3525.62</td>\n",
       "      <td>3476.04</td>\n",
       "      <td>3512.59</td>\n",
       "      <td>3475.89</td>\n",
       "      <td>0.785048</td>\n",
       "      <td>1.097473</td>\n",
       "      <td>-0.091324</td>\n",
       "      <td>...</td>\n",
       "      <td>1.064864</td>\n",
       "      <td>-1.282518</td>\n",
       "      <td>1.373453</td>\n",
       "      <td>-1.290671</td>\n",
       "      <td>0.996289</td>\n",
       "      <td>-0.498459</td>\n",
       "      <td>-0.324384</td>\n",
       "      <td>-1.435014</td>\n",
       "      <td>-1.282518</td>\n",
       "      <td>-0.094920</td>\n",
       "    </tr>\n",
       "    <tr>\n",
       "      <th>2021-05-07 21:00:00</th>\n",
       "      <td>21439.49414</td>\n",
       "      <td>7.456822e+07</td>\n",
       "      <td>3475.89</td>\n",
       "      <td>3497.80</td>\n",
       "      <td>3455.70</td>\n",
       "      <td>3497.17</td>\n",
       "      <td>3443.00</td>\n",
       "      <td>0.397685</td>\n",
       "      <td>0.413065</td>\n",
       "      <td>-0.614753</td>\n",
       "      <td>...</td>\n",
       "      <td>-0.127699</td>\n",
       "      <td>0.980197</td>\n",
       "      <td>1.671350</td>\n",
       "      <td>0.322490</td>\n",
       "      <td>1.059053</td>\n",
       "      <td>-1.331053</td>\n",
       "      <td>1.373258</td>\n",
       "      <td>-1.339353</td>\n",
       "      <td>0.989230</td>\n",
       "      <td>-0.924808</td>\n",
       "    </tr>\n",
       "    <tr>\n",
       "      <th>2021-05-07 22:00:00</th>\n",
       "      <td>38829.22486</td>\n",
       "      <td>1.340210e+08</td>\n",
       "      <td>3443.00</td>\n",
       "      <td>3499.00</td>\n",
       "      <td>3421.11</td>\n",
       "      <td>3475.83</td>\n",
       "      <td>3479.53</td>\n",
       "      <td>-0.083607</td>\n",
       "      <td>0.483265</td>\n",
       "      <td>-1.422373</td>\n",
       "      <td>...</td>\n",
       "      <td>-0.102201</td>\n",
       "      <td>1.102983</td>\n",
       "      <td>1.466788</td>\n",
       "      <td>-0.734640</td>\n",
       "      <td>-0.088010</td>\n",
       "      <td>1.022246</td>\n",
       "      <td>1.714871</td>\n",
       "      <td>0.363138</td>\n",
       "      <td>1.101270</td>\n",
       "      <td>0.006917</td>\n",
       "    </tr>\n",
       "    <tr>\n",
       "      <th>2021-05-07 23:00:00</th>\n",
       "      <td>19900.24004</td>\n",
       "      <td>6.908357e+07</td>\n",
       "      <td>3479.53</td>\n",
       "      <td>3489.00</td>\n",
       "      <td>3438.59</td>\n",
       "      <td>3442.19</td>\n",
       "      <td>3476.59</td>\n",
       "      <td>-0.895708</td>\n",
       "      <td>0.264918</td>\n",
       "      <td>-0.984968</td>\n",
       "      <td>...</td>\n",
       "      <td>0.156566</td>\n",
       "      <td>-0.066335</td>\n",
       "      <td>0.429057</td>\n",
       "      <td>-0.945793</td>\n",
       "      <td>-0.080468</td>\n",
       "      <td>1.140904</td>\n",
       "      <td>1.509597</td>\n",
       "      <td>-0.721403</td>\n",
       "      <td>-0.066087</td>\n",
       "      <td>-0.042781</td>\n",
       "    </tr>\n",
       "  </tbody>\n",
       "</table>\n",
       "<p>32565 rows × 200 columns</p>\n",
       "</div>"
      ],
      "text/plain": [
       "                     base_volume  quote_volume    close     high      low  \\\n",
       "time                                                                        \n",
       "2017-08-19 03:00:00     66.65000  1.964252e+04   293.22   299.84   292.83   \n",
       "2017-08-19 04:00:00     42.99000  1.263183e+04   291.87   297.19   291.87   \n",
       "2017-08-19 05:00:00     35.01000  1.040870e+04   293.23   299.90   291.87   \n",
       "2017-08-19 06:00:00     45.02000  1.316110e+04   289.02   295.56   289.02   \n",
       "2017-08-19 07:00:00    112.26000  3.248597e+04   290.16   292.17   287.01   \n",
       "...                          ...           ...      ...      ...      ...   \n",
       "2021-05-07 19:00:00  22844.22755  8.026408e+07  3512.59  3533.76  3498.28   \n",
       "2021-05-07 20:00:00  18632.39404  6.533341e+07  3497.20  3525.62  3476.04   \n",
       "2021-05-07 21:00:00  21439.49414  7.456822e+07  3475.89  3497.80  3455.70   \n",
       "2021-05-07 22:00:00  38829.22486  1.340210e+08  3443.00  3499.00  3421.11   \n",
       "2021-05-07 23:00:00  19900.24004  6.908357e+07  3479.53  3489.00  3438.59   \n",
       "\n",
       "                        open  next_close   p0_open   p0_high    p0_low  ...  \\\n",
       "time                                                                    ...   \n",
       "2017-08-19 03:00:00   299.84      291.87 -0.457900 -0.457900 -1.611496  ...   \n",
       "2017-08-19 04:00:00   293.22      293.23 -1.470599 -0.837151 -1.686003  ...   \n",
       "2017-08-19 05:00:00   291.87      289.02 -1.617535 -0.363915 -1.617535  ...   \n",
       "2017-08-19 06:00:00   293.23      290.16 -1.304364 -0.955694 -1.934365  ...   \n",
       "2017-08-19 07:00:00   289.02      288.40 -1.837257 -1.376319 -2.131379  ...   \n",
       "...                      ...         ...       ...       ...       ...  ...   \n",
       "2021-05-07 19:00:00  3525.90     3497.20  1.122488  1.310846  0.460600  ...   \n",
       "2021-05-07 20:00:00  3512.59     3475.89  0.785048  1.097473 -0.091324  ...   \n",
       "2021-05-07 21:00:00  3497.17     3443.00  0.397685  0.413065 -0.614753  ...   \n",
       "2021-05-07 22:00:00  3475.83     3479.53 -0.083607  0.483265 -1.422373  ...   \n",
       "2021-05-07 23:00:00  3442.19     3476.59 -0.895708  0.264918 -0.984968  ...   \n",
       "\n",
       "                     p45_close  p46_open  p46_high   p46_low  p46_close  \\\n",
       "time                                                                      \n",
       "2017-08-19 03:00:00   0.009462 -0.166621  0.108201 -0.431570   0.078579   \n",
       "2017-08-19 04:00:00   0.881295  0.105841  0.319649 -0.085630   0.038826   \n",
       "2017-08-19 05:00:00   0.997425  0.070090  0.894388  0.057601   0.894388   \n",
       "2017-08-19 06:00:00   1.205163  0.899889  1.200673  0.756231   0.998654   \n",
       "2017-08-19 07:00:00   1.130303  1.030799  1.525392  1.030799   1.232734   \n",
       "...                        ...       ...       ...       ...        ...   \n",
       "2021-05-07 19:00:00   1.014650 -0.479272 -0.305293 -1.415309  -1.262898   \n",
       "2021-05-07 20:00:00   1.064864 -1.282518  1.373453 -1.290671   0.996289   \n",
       "2021-05-07 21:00:00  -0.127699  0.980197  1.671350  0.322490   1.059053   \n",
       "2021-05-07 22:00:00  -0.102201  1.102983  1.466788 -0.734640  -0.088010   \n",
       "2021-05-07 23:00:00   0.156566 -0.066335  0.429057 -0.945793  -0.080468   \n",
       "\n",
       "                      p47_open   p47_high   p47_low  p47_close  \\\n",
       "time                                                             \n",
       "2017-08-19 03:00:00  57.616839  57.616839 -0.760698  -0.301564   \n",
       "2017-08-19 04:00:00  -0.131902   0.134561 -0.388791   0.105841   \n",
       "2017-08-19 05:00:00   0.135659   0.344856 -0.051681   0.070090   \n",
       "2017-08-19 06:00:00   0.109770   0.899889  0.097798   0.899889   \n",
       "2017-08-19 07:00:00   0.934222   1.228344  0.793745   1.030799   \n",
       "...                        ...        ...       ...        ...   \n",
       "2021-05-07 19:00:00   0.034518   0.139481 -1.601031  -0.473041   \n",
       "2021-05-07 20:00:00  -0.498459  -0.324384 -1.435014  -1.282518   \n",
       "2021-05-07 21:00:00  -1.331053   1.373258 -1.339353   0.989230   \n",
       "2021-05-07 22:00:00   1.022246   1.714871  0.363138   1.101270   \n",
       "2021-05-07 23:00:00   1.140904   1.509597 -0.721403  -0.066087   \n",
       "\n",
       "                     norm_next_close  \n",
       "time                                  \n",
       "2017-08-19 03:00:00        -1.769478  \n",
       "2017-08-19 04:00:00        -1.469003  \n",
       "2017-08-19 05:00:00        -2.062468  \n",
       "2017-08-19 06:00:00        -1.763771  \n",
       "2017-08-19 07:00:00        -1.927981  \n",
       "...                              ...  \n",
       "2021-05-07 19:00:00         0.434719  \n",
       "2021-05-07 20:00:00        -0.094920  \n",
       "2021-05-07 21:00:00        -0.924808  \n",
       "2021-05-07 22:00:00         0.006917  \n",
       "2021-05-07 23:00:00        -0.042781  \n",
       "\n",
       "[32565 rows x 200 columns]"
      ]
     },
     "execution_count": 19,
     "metadata": {},
     "output_type": "execute_result"
    }
   ],
   "source": [
    "_df = df.copy()\n",
    "signal_df = get_only_signal(_df)\n",
    "\n",
    "standardize_close_window_scaler = StandardizeCloseWindowScaler()\n",
    "_df[signal_df.columns] = standardize_close_window_scaler.fit_transform(signal_df)\n",
    "_df['norm_next_close'] = standardize_close_window_scaler.transform_target(_df['next_close'])\n",
    "_df"
   ]
  },
  {
   "cell_type": "code",
   "execution_count": 20,
   "metadata": {
    "ExecuteTime": {
     "end_time": "2021-05-30T12:00:50.720599Z",
     "start_time": "2021-05-30T12:00:50.131192Z"
    }
   },
   "outputs": [
    {
     "name": "stderr",
     "output_type": "stream",
     "text": [
      "/usr/local/lib/python3.8/site-packages/numpy/core/_asarray.py:83: VisibleDeprecationWarning: Creating an ndarray from ragged nested sequences (which is a list-or-tuple of lists-or-tuples-or ndarrays with different lengths or shapes) is deprecated. If you meant to do this, you must specify 'dtype=object' when creating the ndarray\n",
      "  return array(a, dtype, copy=False, order=order)\n"
     ]
    },
    {
     "data": {
      "text/plain": [
       "<matplotlib.axes._subplots.AxesSubplot at 0x1258f3b50>"
      ]
     },
     "execution_count": 20,
     "metadata": {},
     "output_type": "execute_result"
    },
    {
     "data": {
      "image/png": "[encoded data removed]",
      "text/plain": [
       "<Figure size 432x288 with 1 Axes>"
      ]
     },
     "metadata": {
      "needs_background": "light"
     },
     "output_type": "display_data"
    }
   ],
   "source": [
    "sampled_lookback_steps = np.linspace(0, max(lookback_steps), 8).astype(int)\n",
    "\n",
    "get_by_lookback_steps(_df, sampled_lookback_steps).plot.box()"
   ]
  },
  {
   "cell_type": "code",
   "execution_count": 21,
   "metadata": {
    "ExecuteTime": {
     "end_time": "2021-05-30T12:00:51.896405Z",
     "start_time": "2021-05-30T12:00:51.735501Z"
    }
   },
   "outputs": [
    {
     "data": {
      "text/plain": [
       "<matplotlib.axes._subplots.AxesSubplot at 0x125b9b310>"
      ]
     },
     "execution_count": 21,
     "metadata": {},
     "output_type": "execute_result"
    },
    {
     "data": {
      "image/png": "[encoded data removed]",
      "text/plain": [
       "<Figure size 432x288 with 1 Axes>"
      ]
     },
     "metadata": {
      "needs_background": "light"
     },
     "output_type": "display_data"
    }
   ],
   "source": [
    "_df['norm_next_close'].hist()"
   ]
  },
  {
   "cell_type": "code",
   "execution_count": 22,
   "metadata": {
    "ExecuteTime": {
     "end_time": "2021-05-30T12:00:53.284961Z",
     "start_time": "2021-05-30T12:00:52.967899Z"
    }
   },
   "outputs": [
    {
     "data": {
      "text/plain": [
       "<matplotlib.axes._subplots.AxesSubplot at 0x125c890a0>"
      ]
     },
     "execution_count": 22,
     "metadata": {},
     "output_type": "execute_result"
    },
    {
     "data": {
      "image/png": "[encoded data removed]",
      "text/plain": [
       "<Figure size 432x288 with 1 Axes>"
      ]
     },
     "metadata": {
      "needs_background": "light"
     },
     "output_type": "display_data"
    }
   ],
   "source": [
    "_df.plot(x='p0_close', y='norm_next_close', kind='scatter')"
   ]
  },
  {
   "cell_type": "code",
   "execution_count": 23,
   "metadata": {
    "ExecuteTime": {
     "end_time": "2021-05-30T12:00:54.499514Z",
     "start_time": "2021-05-30T12:00:54.318220Z"
    }
   },
   "outputs": [
    {
     "data": {
      "text/plain": [
       "<matplotlib.axes._subplots.AxesSubplot at 0x125cd0490>"
      ]
     },
     "execution_count": 23,
     "metadata": {},
     "output_type": "execute_result"
    },
    {
     "data": {
      "image/png": "[encoded data removed]",
      "text/plain": [
       "<Figure size 432x288 with 1 Axes>"
      ]
     },
     "metadata": {
      "needs_background": "light"
     },
     "output_type": "display_data"
    }
   ],
   "source": [
    "(_df['norm_next_close'] - _df['p0_close']).hist()"
   ]
  },
  {
   "cell_type": "code",
   "execution_count": 24,
   "metadata": {
    "ExecuteTime": {
     "end_time": "2021-05-30T12:00:55.720293Z",
     "start_time": "2021-05-30T12:00:55.712014Z"
    }
   },
   "outputs": [
    {
     "data": {
      "text/plain": [
       "count    32565.000000\n",
       "mean         0.004132\n",
       "std          0.574519\n",
       "min        -13.962827\n",
       "25%         -0.217625\n",
       "50%          0.005067\n",
       "75%          0.228438\n",
       "max         14.156852\n",
       "dtype: float64"
      ]
     },
     "execution_count": 24,
     "metadata": {},
     "output_type": "execute_result"
    }
   ],
   "source": [
    "(_df['norm_next_close'] - _df['p0_close']).describe()"
   ]
  },
  {
   "cell_type": "markdown",
   "metadata": {},
   "source": [
    "### Standardized Window Normalization "
   ]
  },
  {
   "cell_type": "code",
   "execution_count": 25,
   "metadata": {},
   "outputs": [],
   "source": [
    "class StandardizeWindowScaler:\n",
    "    def fit(self, signal_df):\n",
    "        signal_df = get_only_signal(df)\n",
    "        means = {}\n",
    "        stds = {}\n",
    "        for column in ORIGINAL_SIGNAL_COLUMNS:\n",
    "            means[column] = get_by_signal(df, column).mean(axis=1)\n",
    "            stds[column] = get_by_signal(df, column).std(axis=1)\n",
    "        self.means = pd.DataFrame(means)\n",
    "        self.stds = pd.DataFrame(stds)\n",
    "    def transform(self, signal_df):\n",
    "        signal_df = signal_df.copy()\n",
    "        for column in ORIGINAL_SIGNAL_COLUMNS:\n",
    "            signal_column_df = get_by_signal(signal_df, column)\n",
    "            signal_column_df = signal_column_df.subtract(self.means[column].to_numpy(), axis=0)\n",
    "            signal_column_df = signal_column_df.divide(self.stds[column].to_numpy(), axis=0)\n",
    "            signal_df[signal_column_df.columns] = signal_column_df.values\n",
    "        return signal_df\n",
    "    def fit_transform(self, signal_df):\n",
    "        self.fit(signal_df)\n",
    "        return self.transform(signal_df)\n",
    "    def transform_target(self, target):\n",
    "        return (target - self.means['close']) / self.stds['close']\n",
    "    def inverse_transform_target(self, target):\n",
    "        return target * self.stds['close'] + self.means['close']\n"
   ]
  },
  {
   "cell_type": "code",
   "execution_count": 26,
   "metadata": {},
   "outputs": [
    {
     "data": {
      "text/html": [
       "<div>\n",
       "<style scoped>\n",
       "    .dataframe tbody tr th:only-of-type {\n",
       "        vertical-align: middle;\n",
       "    }\n",
       "\n",
       "    .dataframe tbody tr th {\n",
       "        vertical-align: top;\n",
       "    }\n",
       "\n",
       "    .dataframe thead th {\n",
       "        text-align: right;\n",
       "    }\n",
       "</style>\n",
       "<table border=\"1\" class=\"dataframe\">\n",
       "  <thead>\n",
       "    <tr style=\"text-align: right;\">\n",
       "      <th></th>\n",
       "      <th>base_volume</th>\n",
       "      <th>quote_volume</th>\n",
       "      <th>close</th>\n",
       "      <th>high</th>\n",
       "      <th>low</th>\n",
       "      <th>open</th>\n",
       "      <th>next_close</th>\n",
       "      <th>p0_open</th>\n",
       "      <th>p0_high</th>\n",
       "      <th>p0_low</th>\n",
       "      <th>...</th>\n",
       "      <th>p45_close</th>\n",
       "      <th>p46_open</th>\n",
       "      <th>p46_high</th>\n",
       "      <th>p46_low</th>\n",
       "      <th>p46_close</th>\n",
       "      <th>p47_open</th>\n",
       "      <th>p47_high</th>\n",
       "      <th>p47_low</th>\n",
       "      <th>p47_close</th>\n",
       "      <th>norm_next_close</th>\n",
       "    </tr>\n",
       "    <tr>\n",
       "      <th>time</th>\n",
       "      <th></th>\n",
       "      <th></th>\n",
       "      <th></th>\n",
       "      <th></th>\n",
       "      <th></th>\n",
       "      <th></th>\n",
       "      <th></th>\n",
       "      <th></th>\n",
       "      <th></th>\n",
       "      <th></th>\n",
       "      <th></th>\n",
       "      <th></th>\n",
       "      <th></th>\n",
       "      <th></th>\n",
       "      <th></th>\n",
       "      <th></th>\n",
       "      <th></th>\n",
       "      <th></th>\n",
       "      <th></th>\n",
       "      <th></th>\n",
       "      <th></th>\n",
       "    </tr>\n",
       "  </thead>\n",
       "  <tbody>\n",
       "    <tr>\n",
       "      <th>2017-08-19 03:00:00</th>\n",
       "      <td>66.65000</td>\n",
       "      <td>1.964252e+04</td>\n",
       "      <td>293.22</td>\n",
       "      <td>299.84</td>\n",
       "      <td>292.83</td>\n",
       "      <td>299.84</td>\n",
       "      <td>291.87</td>\n",
       "      <td>-0.198669</td>\n",
       "      <td>-0.255710</td>\n",
       "      <td>-1.046979</td>\n",
       "      <td>...</td>\n",
       "      <td>0.009462</td>\n",
       "      <td>-0.163872</td>\n",
       "      <td>-0.187514</td>\n",
       "      <td>0.073445</td>\n",
       "      <td>0.078579</td>\n",
       "      <td>6.739092</td>\n",
       "      <td>6.740330</td>\n",
       "      <td>-0.239086</td>\n",
       "      <td>-0.301564</td>\n",
       "      <td>-1.769478</td>\n",
       "    </tr>\n",
       "    <tr>\n",
       "      <th>2017-08-19 04:00:00</th>\n",
       "      <td>42.99000</td>\n",
       "      <td>1.263183e+04</td>\n",
       "      <td>291.87</td>\n",
       "      <td>297.19</td>\n",
       "      <td>291.87</td>\n",
       "      <td>293.22</td>\n",
       "      <td>293.23</td>\n",
       "      <td>-1.541530</td>\n",
       "      <td>-1.396370</td>\n",
       "      <td>-1.160410</td>\n",
       "      <td>...</td>\n",
       "      <td>0.881295</td>\n",
       "      <td>0.107553</td>\n",
       "      <td>-0.152897</td>\n",
       "      <td>0.384792</td>\n",
       "      <td>0.038826</td>\n",
       "      <td>-0.141144</td>\n",
       "      <td>-0.351853</td>\n",
       "      <td>0.092082</td>\n",
       "      <td>0.105841</td>\n",
       "      <td>-1.469003</td>\n",
       "    </tr>\n",
       "    <tr>\n",
       "      <th>2017-08-19 05:00:00</th>\n",
       "      <td>35.01000</td>\n",
       "      <td>1.040870e+04</td>\n",
       "      <td>293.23</td>\n",
       "      <td>299.90</td>\n",
       "      <td>291.87</td>\n",
       "      <td>291.87</td>\n",
       "      <td>289.02</td>\n",
       "      <td>-1.679412</td>\n",
       "      <td>-0.912365</td>\n",
       "      <td>-1.118885</td>\n",
       "      <td>...</td>\n",
       "      <td>0.997425</td>\n",
       "      <td>0.069115</td>\n",
       "      <td>0.459320</td>\n",
       "      <td>0.511669</td>\n",
       "      <td>0.894388</td>\n",
       "      <td>0.137050</td>\n",
       "      <td>-0.139728</td>\n",
       "      <td>0.405296</td>\n",
       "      <td>0.070090</td>\n",
       "      <td>-2.062468</td>\n",
       "    </tr>\n",
       "    <tr>\n",
       "      <th>2017-08-19 06:00:00</th>\n",
       "      <td>45.02000</td>\n",
       "      <td>1.316110e+04</td>\n",
       "      <td>289.02</td>\n",
       "      <td>295.56</td>\n",
       "      <td>289.02</td>\n",
       "      <td>293.23</td>\n",
       "      <td>290.16</td>\n",
       "      <td>-1.395935</td>\n",
       "      <td>-1.575533</td>\n",
       "      <td>-1.477560</td>\n",
       "      <td>...</td>\n",
       "      <td>1.205163</td>\n",
       "      <td>0.936143</td>\n",
       "      <td>0.810273</td>\n",
       "      <td>1.193897</td>\n",
       "      <td>0.998654</td>\n",
       "      <td>0.100204</td>\n",
       "      <td>0.477486</td>\n",
       "      <td>0.540148</td>\n",
       "      <td>0.899889</td>\n",
       "      <td>-1.763771</td>\n",
       "    </tr>\n",
       "    <tr>\n",
       "      <th>2017-08-19 07:00:00</th>\n",
       "      <td>112.26000</td>\n",
       "      <td>3.248597e+04</td>\n",
       "      <td>290.16</td>\n",
       "      <td>292.17</td>\n",
       "      <td>287.01</td>\n",
       "      <td>289.02</td>\n",
       "      <td>288.40</td>\n",
       "      <td>-1.933912</td>\n",
       "      <td>-1.995189</td>\n",
       "      <td>-1.679488</td>\n",
       "      <td>...</td>\n",
       "      <td>1.130303</td>\n",
       "      <td>1.040754</td>\n",
       "      <td>1.150580</td>\n",
       "      <td>1.441267</td>\n",
       "      <td>1.232734</td>\n",
       "      <td>0.940586</td>\n",
       "      <td>0.828547</td>\n",
       "      <td>1.207319</td>\n",
       "      <td>1.030799</td>\n",
       "      <td>-1.927981</td>\n",
       "    </tr>\n",
       "    <tr>\n",
       "      <th>...</th>\n",
       "      <td>...</td>\n",
       "      <td>...</td>\n",
       "      <td>...</td>\n",
       "      <td>...</td>\n",
       "      <td>...</td>\n",
       "      <td>...</td>\n",
       "      <td>...</td>\n",
       "      <td>...</td>\n",
       "      <td>...</td>\n",
       "      <td>...</td>\n",
       "      <td>...</td>\n",
       "      <td>...</td>\n",
       "      <td>...</td>\n",
       "      <td>...</td>\n",
       "      <td>...</td>\n",
       "      <td>...</td>\n",
       "      <td>...</td>\n",
       "      <td>...</td>\n",
       "      <td>...</td>\n",
       "      <td>...</td>\n",
       "      <td>...</td>\n",
       "    </tr>\n",
       "    <tr>\n",
       "      <th>2021-05-07 19:00:00</th>\n",
       "      <td>22844.22755</td>\n",
       "      <td>8.026408e+07</td>\n",
       "      <td>3512.59</td>\n",
       "      <td>3533.76</td>\n",
       "      <td>3498.28</td>\n",
       "      <td>3525.90</td>\n",
       "      <td>3497.20</td>\n",
       "      <td>1.146306</td>\n",
       "      <td>0.640054</td>\n",
       "      <td>1.154664</td>\n",
       "      <td>...</td>\n",
       "      <td>1.014650</td>\n",
       "      <td>-0.465794</td>\n",
       "      <td>-0.871742</td>\n",
       "      <td>-0.635231</td>\n",
       "      <td>-1.262898</td>\n",
       "      <td>0.051313</td>\n",
       "      <td>-0.455684</td>\n",
       "      <td>-0.812437</td>\n",
       "      <td>-0.473041</td>\n",
       "      <td>0.434719</td>\n",
       "    </tr>\n",
       "    <tr>\n",
       "      <th>2021-05-07 20:00:00</th>\n",
       "      <td>18632.39404</td>\n",
       "      <td>6.533341e+07</td>\n",
       "      <td>3497.20</td>\n",
       "      <td>3525.62</td>\n",
       "      <td>3476.04</td>\n",
       "      <td>3512.59</td>\n",
       "      <td>3475.89</td>\n",
       "      <td>0.803488</td>\n",
       "      <td>0.438627</td>\n",
       "      <td>0.617641</td>\n",
       "      <td>...</td>\n",
       "      <td>1.064864</td>\n",
       "      <td>-1.261696</td>\n",
       "      <td>0.696689</td>\n",
       "      <td>-0.529588</td>\n",
       "      <td>0.996289</td>\n",
       "      <td>-0.478540</td>\n",
       "      <td>-0.890917</td>\n",
       "      <td>-0.667659</td>\n",
       "      <td>-1.282518</td>\n",
       "      <td>-0.094920</td>\n",
       "    </tr>\n",
       "    <tr>\n",
       "      <th>2021-05-07 21:00:00</th>\n",
       "      <td>21439.49414</td>\n",
       "      <td>7.456822e+07</td>\n",
       "      <td>3475.89</td>\n",
       "      <td>3497.80</td>\n",
       "      <td>3455.70</td>\n",
       "      <td>3497.17</td>\n",
       "      <td>3443.00</td>\n",
       "      <td>0.415424</td>\n",
       "      <td>-0.201476</td>\n",
       "      <td>0.134704</td>\n",
       "      <td>...</td>\n",
       "      <td>-0.127699</td>\n",
       "      <td>0.987216</td>\n",
       "      <td>0.963665</td>\n",
       "      <td>1.019315</td>\n",
       "      <td>1.059053</td>\n",
       "      <td>-1.281500</td>\n",
       "      <td>0.687639</td>\n",
       "      <td>-0.549205</td>\n",
       "      <td>0.989230</td>\n",
       "      <td>-0.924808</td>\n",
       "    </tr>\n",
       "    <tr>\n",
       "      <th>2021-05-07 22:00:00</th>\n",
       "      <td>38829.22486</td>\n",
       "      <td>1.340210e+08</td>\n",
       "      <td>3443.00</td>\n",
       "      <td>3499.00</td>\n",
       "      <td>3421.11</td>\n",
       "      <td>3475.83</td>\n",
       "      <td>3479.53</td>\n",
       "      <td>-0.122868</td>\n",
       "      <td>-0.157158</td>\n",
       "      <td>-0.659029</td>\n",
       "      <td>...</td>\n",
       "      <td>-0.102201</td>\n",
       "      <td>1.060524</td>\n",
       "      <td>0.756085</td>\n",
       "      <td>-0.012238</td>\n",
       "      <td>-0.088010</td>\n",
       "      <td>0.980005</td>\n",
       "      <td>0.986441</td>\n",
       "      <td>1.020188</td>\n",
       "      <td>1.101270</td>\n",
       "      <td>0.006917</td>\n",
       "    </tr>\n",
       "    <tr>\n",
       "      <th>2021-05-07 23:00:00</th>\n",
       "      <td>19900.24004</td>\n",
       "      <td>6.908357e+07</td>\n",
       "      <td>3479.53</td>\n",
       "      <td>3489.00</td>\n",
       "      <td>3438.59</td>\n",
       "      <td>3442.19</td>\n",
       "      <td>3476.59</td>\n",
       "      <td>-0.905019</td>\n",
       "      <td>-0.359093</td>\n",
       "      <td>-0.232733</td>\n",
       "      <td>...</td>\n",
       "      <td>0.156566</td>\n",
       "      <td>-0.087565</td>\n",
       "      <td>-0.207300</td>\n",
       "      <td>-0.195982</td>\n",
       "      <td>-0.080468</td>\n",
       "      <td>1.102326</td>\n",
       "      <td>0.791960</td>\n",
       "      <td>0.014523</td>\n",
       "      <td>-0.066087</td>\n",
       "      <td>-0.042781</td>\n",
       "    </tr>\n",
       "  </tbody>\n",
       "</table>\n",
       "<p>32565 rows × 200 columns</p>\n",
       "</div>"
      ],
      "text/plain": [
       "                     base_volume  quote_volume    close     high      low  \\\n",
       "time                                                                        \n",
       "2017-08-19 03:00:00     66.65000  1.964252e+04   293.22   299.84   292.83   \n",
       "2017-08-19 04:00:00     42.99000  1.263183e+04   291.87   297.19   291.87   \n",
       "2017-08-19 05:00:00     35.01000  1.040870e+04   293.23   299.90   291.87   \n",
       "2017-08-19 06:00:00     45.02000  1.316110e+04   289.02   295.56   289.02   \n",
       "2017-08-19 07:00:00    112.26000  3.248597e+04   290.16   292.17   287.01   \n",
       "...                          ...           ...      ...      ...      ...   \n",
       "2021-05-07 19:00:00  22844.22755  8.026408e+07  3512.59  3533.76  3498.28   \n",
       "2021-05-07 20:00:00  18632.39404  6.533341e+07  3497.20  3525.62  3476.04   \n",
       "2021-05-07 21:00:00  21439.49414  7.456822e+07  3475.89  3497.80  3455.70   \n",
       "2021-05-07 22:00:00  38829.22486  1.340210e+08  3443.00  3499.00  3421.11   \n",
       "2021-05-07 23:00:00  19900.24004  6.908357e+07  3479.53  3489.00  3438.59   \n",
       "\n",
       "                        open  next_close   p0_open   p0_high    p0_low  ...  \\\n",
       "time                                                                    ...   \n",
       "2017-08-19 03:00:00   299.84      291.87 -0.198669 -0.255710 -1.046979  ...   \n",
       "2017-08-19 04:00:00   293.22      293.23 -1.541530 -1.396370 -1.160410  ...   \n",
       "2017-08-19 05:00:00   291.87      289.02 -1.679412 -0.912365 -1.118885  ...   \n",
       "2017-08-19 06:00:00   293.23      290.16 -1.395935 -1.575533 -1.477560  ...   \n",
       "2017-08-19 07:00:00   289.02      288.40 -1.933912 -1.995189 -1.679488  ...   \n",
       "...                      ...         ...       ...       ...       ...  ...   \n",
       "2021-05-07 19:00:00  3525.90     3497.20  1.146306  0.640054  1.154664  ...   \n",
       "2021-05-07 20:00:00  3512.59     3475.89  0.803488  0.438627  0.617641  ...   \n",
       "2021-05-07 21:00:00  3497.17     3443.00  0.415424 -0.201476  0.134704  ...   \n",
       "2021-05-07 22:00:00  3475.83     3479.53 -0.122868 -0.157158 -0.659029  ...   \n",
       "2021-05-07 23:00:00  3442.19     3476.59 -0.905019 -0.359093 -0.232733  ...   \n",
       "\n",
       "                     p45_close  p46_open  p46_high   p46_low  p46_close  \\\n",
       "time                                                                      \n",
       "2017-08-19 03:00:00   0.009462 -0.163872 -0.187514  0.073445   0.078579   \n",
       "2017-08-19 04:00:00   0.881295  0.107553 -0.152897  0.384792   0.038826   \n",
       "2017-08-19 05:00:00   0.997425  0.069115  0.459320  0.511669   0.894388   \n",
       "2017-08-19 06:00:00   1.205163  0.936143  0.810273  1.193897   0.998654   \n",
       "2017-08-19 07:00:00   1.130303  1.040754  1.150580  1.441267   1.232734   \n",
       "...                        ...       ...       ...       ...        ...   \n",
       "2021-05-07 19:00:00   1.014650 -0.465794 -0.871742 -0.635231  -1.262898   \n",
       "2021-05-07 20:00:00   1.064864 -1.261696  0.696689 -0.529588   0.996289   \n",
       "2021-05-07 21:00:00  -0.127699  0.987216  0.963665  1.019315   1.059053   \n",
       "2021-05-07 22:00:00  -0.102201  1.060524  0.756085 -0.012238  -0.088010   \n",
       "2021-05-07 23:00:00   0.156566 -0.087565 -0.207300 -0.195982  -0.080468   \n",
       "\n",
       "                     p47_open  p47_high   p47_low  p47_close  norm_next_close  \n",
       "time                                                                           \n",
       "2017-08-19 03:00:00  6.739092  6.740330 -0.239086  -0.301564        -1.769478  \n",
       "2017-08-19 04:00:00 -0.141144 -0.351853  0.092082   0.105841        -1.469003  \n",
       "2017-08-19 05:00:00  0.137050 -0.139728  0.405296   0.070090        -2.062468  \n",
       "2017-08-19 06:00:00  0.100204  0.477486  0.540148   0.899889        -1.763771  \n",
       "2017-08-19 07:00:00  0.940586  0.828547  1.207319   1.030799        -1.927981  \n",
       "...                       ...       ...       ...        ...              ...  \n",
       "2021-05-07 19:00:00  0.051313 -0.455684 -0.812437  -0.473041         0.434719  \n",
       "2021-05-07 20:00:00 -0.478540 -0.890917 -0.667659  -1.282518        -0.094920  \n",
       "2021-05-07 21:00:00 -1.281500  0.687639 -0.549205   0.989230        -0.924808  \n",
       "2021-05-07 22:00:00  0.980005  0.986441  1.020188   1.101270         0.006917  \n",
       "2021-05-07 23:00:00  1.102326  0.791960  0.014523  -0.066087        -0.042781  \n",
       "\n",
       "[32565 rows x 200 columns]"
      ]
     },
     "execution_count": 26,
     "metadata": {},
     "output_type": "execute_result"
    }
   ],
   "source": [
    "_df = df.copy()\n",
    "signal_df = get_only_signal(_df)\n",
    "\n",
    "standardize_window_scaler = StandardizeWindowScaler()\n",
    "_df[signal_df.columns] = standardize_window_scaler.fit_transform(signal_df)\n",
    "_df['norm_next_close'] = standardize_window_scaler.transform_target(_df['next_close'])\n",
    "_df"
   ]
  },
  {
   "cell_type": "markdown",
   "metadata": {},
   "source": [
    "### Apply normalization"
   ]
  },
  {
   "cell_type": "code",
   "execution_count": 27,
   "metadata": {
    "ExecuteTime": {
     "end_time": "2021-05-30T12:00:58.253960Z",
     "start_time": "2021-05-30T12:00:58.079847Z"
    }
   },
   "outputs": [
    {
     "data": {
      "text/html": [
       "<div>\n",
       "<style scoped>\n",
       "    .dataframe tbody tr th:only-of-type {\n",
       "        vertical-align: middle;\n",
       "    }\n",
       "\n",
       "    .dataframe tbody tr th {\n",
       "        vertical-align: top;\n",
       "    }\n",
       "\n",
       "    .dataframe thead th {\n",
       "        text-align: right;\n",
       "    }\n",
       "</style>\n",
       "<table border=\"1\" class=\"dataframe\">\n",
       "  <thead>\n",
       "    <tr style=\"text-align: right;\">\n",
       "      <th></th>\n",
       "      <th>base_volume</th>\n",
       "      <th>quote_volume</th>\n",
       "      <th>close</th>\n",
       "      <th>high</th>\n",
       "      <th>low</th>\n",
       "      <th>open</th>\n",
       "      <th>next_close</th>\n",
       "      <th>p0_open</th>\n",
       "      <th>p0_high</th>\n",
       "      <th>p0_low</th>\n",
       "      <th>...</th>\n",
       "      <th>p45_close</th>\n",
       "      <th>p46_open</th>\n",
       "      <th>p46_high</th>\n",
       "      <th>p46_low</th>\n",
       "      <th>p46_close</th>\n",
       "      <th>p47_open</th>\n",
       "      <th>p47_high</th>\n",
       "      <th>p47_low</th>\n",
       "      <th>p47_close</th>\n",
       "      <th>norm_next_close</th>\n",
       "    </tr>\n",
       "    <tr>\n",
       "      <th>time</th>\n",
       "      <th></th>\n",
       "      <th></th>\n",
       "      <th></th>\n",
       "      <th></th>\n",
       "      <th></th>\n",
       "      <th></th>\n",
       "      <th></th>\n",
       "      <th></th>\n",
       "      <th></th>\n",
       "      <th></th>\n",
       "      <th></th>\n",
       "      <th></th>\n",
       "      <th></th>\n",
       "      <th></th>\n",
       "      <th></th>\n",
       "      <th></th>\n",
       "      <th></th>\n",
       "      <th></th>\n",
       "      <th></th>\n",
       "      <th></th>\n",
       "      <th></th>\n",
       "    </tr>\n",
       "  </thead>\n",
       "  <tbody>\n",
       "    <tr>\n",
       "      <th>2017-08-19 03:00:00</th>\n",
       "      <td>66.65000</td>\n",
       "      <td>1.964252e+04</td>\n",
       "      <td>293.22</td>\n",
       "      <td>299.84</td>\n",
       "      <td>292.83</td>\n",
       "      <td>299.84</td>\n",
       "      <td>291.87</td>\n",
       "      <td>-0.198669</td>\n",
       "      <td>-0.255710</td>\n",
       "      <td>-1.046979</td>\n",
       "      <td>...</td>\n",
       "      <td>0.009462</td>\n",
       "      <td>-0.163872</td>\n",
       "      <td>-0.187514</td>\n",
       "      <td>0.073445</td>\n",
       "      <td>0.078579</td>\n",
       "      <td>6.739092</td>\n",
       "      <td>6.740330</td>\n",
       "      <td>-0.239086</td>\n",
       "      <td>-0.301564</td>\n",
       "      <td>-1.769478</td>\n",
       "    </tr>\n",
       "    <tr>\n",
       "      <th>2017-08-19 04:00:00</th>\n",
       "      <td>42.99000</td>\n",
       "      <td>1.263183e+04</td>\n",
       "      <td>291.87</td>\n",
       "      <td>297.19</td>\n",
       "      <td>291.87</td>\n",
       "      <td>293.22</td>\n",
       "      <td>293.23</td>\n",
       "      <td>-1.541530</td>\n",
       "      <td>-1.396370</td>\n",
       "      <td>-1.160410</td>\n",
       "      <td>...</td>\n",
       "      <td>0.881295</td>\n",
       "      <td>0.107553</td>\n",
       "      <td>-0.152897</td>\n",
       "      <td>0.384792</td>\n",
       "      <td>0.038826</td>\n",
       "      <td>-0.141144</td>\n",
       "      <td>-0.351853</td>\n",
       "      <td>0.092082</td>\n",
       "      <td>0.105841</td>\n",
       "      <td>-1.469003</td>\n",
       "    </tr>\n",
       "    <tr>\n",
       "      <th>2017-08-19 05:00:00</th>\n",
       "      <td>35.01000</td>\n",
       "      <td>1.040870e+04</td>\n",
       "      <td>293.23</td>\n",
       "      <td>299.90</td>\n",
       "      <td>291.87</td>\n",
       "      <td>291.87</td>\n",
       "      <td>289.02</td>\n",
       "      <td>-1.679412</td>\n",
       "      <td>-0.912365</td>\n",
       "      <td>-1.118885</td>\n",
       "      <td>...</td>\n",
       "      <td>0.997425</td>\n",
       "      <td>0.069115</td>\n",
       "      <td>0.459320</td>\n",
       "      <td>0.511669</td>\n",
       "      <td>0.894388</td>\n",
       "      <td>0.137050</td>\n",
       "      <td>-0.139728</td>\n",
       "      <td>0.405296</td>\n",
       "      <td>0.070090</td>\n",
       "      <td>-2.062468</td>\n",
       "    </tr>\n",
       "    <tr>\n",
       "      <th>2017-08-19 06:00:00</th>\n",
       "      <td>45.02000</td>\n",
       "      <td>1.316110e+04</td>\n",
       "      <td>289.02</td>\n",
       "      <td>295.56</td>\n",
       "      <td>289.02</td>\n",
       "      <td>293.23</td>\n",
       "      <td>290.16</td>\n",
       "      <td>-1.395935</td>\n",
       "      <td>-1.575533</td>\n",
       "      <td>-1.477560</td>\n",
       "      <td>...</td>\n",
       "      <td>1.205163</td>\n",
       "      <td>0.936143</td>\n",
       "      <td>0.810273</td>\n",
       "      <td>1.193897</td>\n",
       "      <td>0.998654</td>\n",
       "      <td>0.100204</td>\n",
       "      <td>0.477486</td>\n",
       "      <td>0.540148</td>\n",
       "      <td>0.899889</td>\n",
       "      <td>-1.763771</td>\n",
       "    </tr>\n",
       "    <tr>\n",
       "      <th>2017-08-19 07:00:00</th>\n",
       "      <td>112.26000</td>\n",
       "      <td>3.248597e+04</td>\n",
       "      <td>290.16</td>\n",
       "      <td>292.17</td>\n",
       "      <td>287.01</td>\n",
       "      <td>289.02</td>\n",
       "      <td>288.40</td>\n",
       "      <td>-1.933912</td>\n",
       "      <td>-1.995189</td>\n",
       "      <td>-1.679488</td>\n",
       "      <td>...</td>\n",
       "      <td>1.130303</td>\n",
       "      <td>1.040754</td>\n",
       "      <td>1.150580</td>\n",
       "      <td>1.441267</td>\n",
       "      <td>1.232734</td>\n",
       "      <td>0.940586</td>\n",
       "      <td>0.828547</td>\n",
       "      <td>1.207319</td>\n",
       "      <td>1.030799</td>\n",
       "      <td>-1.927981</td>\n",
       "    </tr>\n",
       "    <tr>\n",
       "      <th>...</th>\n",
       "      <td>...</td>\n",
       "      <td>...</td>\n",
       "      <td>...</td>\n",
       "      <td>...</td>\n",
       "      <td>...</td>\n",
       "      <td>...</td>\n",
       "      <td>...</td>\n",
       "      <td>...</td>\n",
       "      <td>...</td>\n",
       "      <td>...</td>\n",
       "      <td>...</td>\n",
       "      <td>...</td>\n",
       "      <td>...</td>\n",
       "      <td>...</td>\n",
       "      <td>...</td>\n",
       "      <td>...</td>\n",
       "      <td>...</td>\n",
       "      <td>...</td>\n",
       "      <td>...</td>\n",
       "      <td>...</td>\n",
       "      <td>...</td>\n",
       "    </tr>\n",
       "    <tr>\n",
       "      <th>2021-05-07 19:00:00</th>\n",
       "      <td>22844.22755</td>\n",
       "      <td>8.026408e+07</td>\n",
       "      <td>3512.59</td>\n",
       "      <td>3533.76</td>\n",
       "      <td>3498.28</td>\n",
       "      <td>3525.90</td>\n",
       "      <td>3497.20</td>\n",
       "      <td>1.146306</td>\n",
       "      <td>0.640054</td>\n",
       "      <td>1.154664</td>\n",
       "      <td>...</td>\n",
       "      <td>1.014650</td>\n",
       "      <td>-0.465794</td>\n",
       "      <td>-0.871742</td>\n",
       "      <td>-0.635231</td>\n",
       "      <td>-1.262898</td>\n",
       "      <td>0.051313</td>\n",
       "      <td>-0.455684</td>\n",
       "      <td>-0.812437</td>\n",
       "      <td>-0.473041</td>\n",
       "      <td>0.434719</td>\n",
       "    </tr>\n",
       "    <tr>\n",
       "      <th>2021-05-07 20:00:00</th>\n",
       "      <td>18632.39404</td>\n",
       "      <td>6.533341e+07</td>\n",
       "      <td>3497.20</td>\n",
       "      <td>3525.62</td>\n",
       "      <td>3476.04</td>\n",
       "      <td>3512.59</td>\n",
       "      <td>3475.89</td>\n",
       "      <td>0.803488</td>\n",
       "      <td>0.438627</td>\n",
       "      <td>0.617641</td>\n",
       "      <td>...</td>\n",
       "      <td>1.064864</td>\n",
       "      <td>-1.261696</td>\n",
       "      <td>0.696689</td>\n",
       "      <td>-0.529588</td>\n",
       "      <td>0.996289</td>\n",
       "      <td>-0.478540</td>\n",
       "      <td>-0.890917</td>\n",
       "      <td>-0.667659</td>\n",
       "      <td>-1.282518</td>\n",
       "      <td>-0.094920</td>\n",
       "    </tr>\n",
       "    <tr>\n",
       "      <th>2021-05-07 21:00:00</th>\n",
       "      <td>21439.49414</td>\n",
       "      <td>7.456822e+07</td>\n",
       "      <td>3475.89</td>\n",
       "      <td>3497.80</td>\n",
       "      <td>3455.70</td>\n",
       "      <td>3497.17</td>\n",
       "      <td>3443.00</td>\n",
       "      <td>0.415424</td>\n",
       "      <td>-0.201476</td>\n",
       "      <td>0.134704</td>\n",
       "      <td>...</td>\n",
       "      <td>-0.127699</td>\n",
       "      <td>0.987216</td>\n",
       "      <td>0.963665</td>\n",
       "      <td>1.019315</td>\n",
       "      <td>1.059053</td>\n",
       "      <td>-1.281500</td>\n",
       "      <td>0.687639</td>\n",
       "      <td>-0.549205</td>\n",
       "      <td>0.989230</td>\n",
       "      <td>-0.924808</td>\n",
       "    </tr>\n",
       "    <tr>\n",
       "      <th>2021-05-07 22:00:00</th>\n",
       "      <td>38829.22486</td>\n",
       "      <td>1.340210e+08</td>\n",
       "      <td>3443.00</td>\n",
       "      <td>3499.00</td>\n",
       "      <td>3421.11</td>\n",
       "      <td>3475.83</td>\n",
       "      <td>3479.53</td>\n",
       "      <td>-0.122868</td>\n",
       "      <td>-0.157158</td>\n",
       "      <td>-0.659029</td>\n",
       "      <td>...</td>\n",
       "      <td>-0.102201</td>\n",
       "      <td>1.060524</td>\n",
       "      <td>0.756085</td>\n",
       "      <td>-0.012238</td>\n",
       "      <td>-0.088010</td>\n",
       "      <td>0.980005</td>\n",
       "      <td>0.986441</td>\n",
       "      <td>1.020188</td>\n",
       "      <td>1.101270</td>\n",
       "      <td>0.006917</td>\n",
       "    </tr>\n",
       "    <tr>\n",
       "      <th>2021-05-07 23:00:00</th>\n",
       "      <td>19900.24004</td>\n",
       "      <td>6.908357e+07</td>\n",
       "      <td>3479.53</td>\n",
       "      <td>3489.00</td>\n",
       "      <td>3438.59</td>\n",
       "      <td>3442.19</td>\n",
       "      <td>3476.59</td>\n",
       "      <td>-0.905019</td>\n",
       "      <td>-0.359093</td>\n",
       "      <td>-0.232733</td>\n",
       "      <td>...</td>\n",
       "      <td>0.156566</td>\n",
       "      <td>-0.087565</td>\n",
       "      <td>-0.207300</td>\n",
       "      <td>-0.195982</td>\n",
       "      <td>-0.080468</td>\n",
       "      <td>1.102326</td>\n",
       "      <td>0.791960</td>\n",
       "      <td>0.014523</td>\n",
       "      <td>-0.066087</td>\n",
       "      <td>-0.042781</td>\n",
       "    </tr>\n",
       "  </tbody>\n",
       "</table>\n",
       "<p>32565 rows × 200 columns</p>\n",
       "</div>"
      ],
      "text/plain": [
       "                     base_volume  quote_volume    close     high      low  \\\n",
       "time                                                                        \n",
       "2017-08-19 03:00:00     66.65000  1.964252e+04   293.22   299.84   292.83   \n",
       "2017-08-19 04:00:00     42.99000  1.263183e+04   291.87   297.19   291.87   \n",
       "2017-08-19 05:00:00     35.01000  1.040870e+04   293.23   299.90   291.87   \n",
       "2017-08-19 06:00:00     45.02000  1.316110e+04   289.02   295.56   289.02   \n",
       "2017-08-19 07:00:00    112.26000  3.248597e+04   290.16   292.17   287.01   \n",
       "...                          ...           ...      ...      ...      ...   \n",
       "2021-05-07 19:00:00  22844.22755  8.026408e+07  3512.59  3533.76  3498.28   \n",
       "2021-05-07 20:00:00  18632.39404  6.533341e+07  3497.20  3525.62  3476.04   \n",
       "2021-05-07 21:00:00  21439.49414  7.456822e+07  3475.89  3497.80  3455.70   \n",
       "2021-05-07 22:00:00  38829.22486  1.340210e+08  3443.00  3499.00  3421.11   \n",
       "2021-05-07 23:00:00  19900.24004  6.908357e+07  3479.53  3489.00  3438.59   \n",
       "\n",
       "                        open  next_close   p0_open   p0_high    p0_low  ...  \\\n",
       "time                                                                    ...   \n",
       "2017-08-19 03:00:00   299.84      291.87 -0.198669 -0.255710 -1.046979  ...   \n",
       "2017-08-19 04:00:00   293.22      293.23 -1.541530 -1.396370 -1.160410  ...   \n",
       "2017-08-19 05:00:00   291.87      289.02 -1.679412 -0.912365 -1.118885  ...   \n",
       "2017-08-19 06:00:00   293.23      290.16 -1.395935 -1.575533 -1.477560  ...   \n",
       "2017-08-19 07:00:00   289.02      288.40 -1.933912 -1.995189 -1.679488  ...   \n",
       "...                      ...         ...       ...       ...       ...  ...   \n",
       "2021-05-07 19:00:00  3525.90     3497.20  1.146306  0.640054  1.154664  ...   \n",
       "2021-05-07 20:00:00  3512.59     3475.89  0.803488  0.438627  0.617641  ...   \n",
       "2021-05-07 21:00:00  3497.17     3443.00  0.415424 -0.201476  0.134704  ...   \n",
       "2021-05-07 22:00:00  3475.83     3479.53 -0.122868 -0.157158 -0.659029  ...   \n",
       "2021-05-07 23:00:00  3442.19     3476.59 -0.905019 -0.359093 -0.232733  ...   \n",
       "\n",
       "                     p45_close  p46_open  p46_high   p46_low  p46_close  \\\n",
       "time                                                                      \n",
       "2017-08-19 03:00:00   0.009462 -0.163872 -0.187514  0.073445   0.078579   \n",
       "2017-08-19 04:00:00   0.881295  0.107553 -0.152897  0.384792   0.038826   \n",
       "2017-08-19 05:00:00   0.997425  0.069115  0.459320  0.511669   0.894388   \n",
       "2017-08-19 06:00:00   1.205163  0.936143  0.810273  1.193897   0.998654   \n",
       "2017-08-19 07:00:00   1.130303  1.040754  1.150580  1.441267   1.232734   \n",
       "...                        ...       ...       ...       ...        ...   \n",
       "2021-05-07 19:00:00   1.014650 -0.465794 -0.871742 -0.635231  -1.262898   \n",
       "2021-05-07 20:00:00   1.064864 -1.261696  0.696689 -0.529588   0.996289   \n",
       "2021-05-07 21:00:00  -0.127699  0.987216  0.963665  1.019315   1.059053   \n",
       "2021-05-07 22:00:00  -0.102201  1.060524  0.756085 -0.012238  -0.088010   \n",
       "2021-05-07 23:00:00   0.156566 -0.087565 -0.207300 -0.195982  -0.080468   \n",
       "\n",
       "                     p47_open  p47_high   p47_low  p47_close  norm_next_close  \n",
       "time                                                                           \n",
       "2017-08-19 03:00:00  6.739092  6.740330 -0.239086  -0.301564        -1.769478  \n",
       "2017-08-19 04:00:00 -0.141144 -0.351853  0.092082   0.105841        -1.469003  \n",
       "2017-08-19 05:00:00  0.137050 -0.139728  0.405296   0.070090        -2.062468  \n",
       "2017-08-19 06:00:00  0.100204  0.477486  0.540148   0.899889        -1.763771  \n",
       "2017-08-19 07:00:00  0.940586  0.828547  1.207319   1.030799        -1.927981  \n",
       "...                       ...       ...       ...        ...              ...  \n",
       "2021-05-07 19:00:00  0.051313 -0.455684 -0.812437  -0.473041         0.434719  \n",
       "2021-05-07 20:00:00 -0.478540 -0.890917 -0.667659  -1.282518        -0.094920  \n",
       "2021-05-07 21:00:00 -1.281500  0.687639 -0.549205   0.989230        -0.924808  \n",
       "2021-05-07 22:00:00  0.980005  0.986441  1.020188   1.101270         0.006917  \n",
       "2021-05-07 23:00:00  1.102326  0.791960  0.014523  -0.066087        -0.042781  \n",
       "\n",
       "[32565 rows x 200 columns]"
      ]
     },
     "execution_count": 27,
     "metadata": {},
     "output_type": "execute_result"
    }
   ],
   "source": [
    "scaler = StandardizeWindowScaler()\n",
    "\n",
    "signal_df = get_only_signal(df)\n",
    "signal_columns = list(signal_df.columns)\n",
    "df[signal_df.columns] = scaler.fit_transform(signal_df)\n",
    "df['norm_next_close'] = scaler.transform_target(df['next_close'])\n",
    "df"
   ]
  },
  {
   "cell_type": "markdown",
   "metadata": {},
   "source": [
    "## Select input / target columns"
   ]
  },
  {
   "cell_type": "code",
   "execution_count": 28,
   "metadata": {
    "ExecuteTime": {
     "end_time": "2021-05-30T12:01:01.303496Z",
     "start_time": "2021-05-30T12:01:01.295098Z"
    },
    "tags": []
   },
   "outputs": [
    {
     "data": {
      "text/plain": [
       "['p0_open',\n",
       " 'p0_high',\n",
       " 'p0_low',\n",
       " 'p0_close',\n",
       " 'p1_open',\n",
       " 'p1_high',\n",
       " 'p1_low',\n",
       " 'p1_close',\n",
       " 'p2_open',\n",
       " 'p2_high',\n",
       " 'p2_low',\n",
       " 'p2_close',\n",
       " 'p3_open',\n",
       " 'p3_high',\n",
       " 'p3_low',\n",
       " 'p3_close',\n",
       " 'p4_open',\n",
       " 'p4_high',\n",
       " 'p4_low',\n",
       " 'p4_close',\n",
       " 'p5_open',\n",
       " 'p5_high',\n",
       " 'p5_low',\n",
       " 'p5_close',\n",
       " 'p6_open',\n",
       " 'p6_high',\n",
       " 'p6_low',\n",
       " 'p6_close',\n",
       " 'p7_open',\n",
       " 'p7_high',\n",
       " 'p7_low',\n",
       " 'p7_close',\n",
       " 'p8_open',\n",
       " 'p8_high',\n",
       " 'p8_low',\n",
       " 'p8_close',\n",
       " 'p9_open',\n",
       " 'p9_high',\n",
       " 'p9_low',\n",
       " 'p9_close',\n",
       " 'p10_open',\n",
       " 'p10_high',\n",
       " 'p10_low',\n",
       " 'p10_close',\n",
       " 'p11_open',\n",
       " 'p11_high',\n",
       " 'p11_low',\n",
       " 'p11_close',\n",
       " 'p12_open',\n",
       " 'p12_high',\n",
       " 'p12_low',\n",
       " 'p12_close',\n",
       " 'p13_open',\n",
       " 'p13_high',\n",
       " 'p13_low',\n",
       " 'p13_close',\n",
       " 'p14_open',\n",
       " 'p14_high',\n",
       " 'p14_low',\n",
       " 'p14_close',\n",
       " 'p15_open',\n",
       " 'p15_high',\n",
       " 'p15_low',\n",
       " 'p15_close',\n",
       " 'p16_open',\n",
       " 'p16_high',\n",
       " 'p16_low',\n",
       " 'p16_close',\n",
       " 'p17_open',\n",
       " 'p17_high',\n",
       " 'p17_low',\n",
       " 'p17_close',\n",
       " 'p18_open',\n",
       " 'p18_high',\n",
       " 'p18_low',\n",
       " 'p18_close',\n",
       " 'p19_open',\n",
       " 'p19_high',\n",
       " 'p19_low',\n",
       " 'p19_close',\n",
       " 'p20_open',\n",
       " 'p20_high',\n",
       " 'p20_low',\n",
       " 'p20_close',\n",
       " 'p21_open',\n",
       " 'p21_high',\n",
       " 'p21_low',\n",
       " 'p21_close',\n",
       " 'p22_open',\n",
       " 'p22_high',\n",
       " 'p22_low',\n",
       " 'p22_close',\n",
       " 'p23_open',\n",
       " 'p23_high',\n",
       " 'p23_low',\n",
       " 'p23_close',\n",
       " 'p24_open',\n",
       " 'p24_high',\n",
       " 'p24_low',\n",
       " 'p24_close',\n",
       " 'p25_open',\n",
       " 'p25_high',\n",
       " 'p25_low',\n",
       " 'p25_close',\n",
       " 'p26_open',\n",
       " 'p26_high',\n",
       " 'p26_low',\n",
       " 'p26_close',\n",
       " 'p27_open',\n",
       " 'p27_high',\n",
       " 'p27_low',\n",
       " 'p27_close',\n",
       " 'p28_open',\n",
       " 'p28_high',\n",
       " 'p28_low',\n",
       " 'p28_close',\n",
       " 'p29_open',\n",
       " 'p29_high',\n",
       " 'p29_low',\n",
       " 'p29_close',\n",
       " 'p30_open',\n",
       " 'p30_high',\n",
       " 'p30_low',\n",
       " 'p30_close',\n",
       " 'p31_open',\n",
       " 'p31_high',\n",
       " 'p31_low',\n",
       " 'p31_close',\n",
       " 'p32_open',\n",
       " 'p32_high',\n",
       " 'p32_low',\n",
       " 'p32_close',\n",
       " 'p33_open',\n",
       " 'p33_high',\n",
       " 'p33_low',\n",
       " 'p33_close',\n",
       " 'p34_open',\n",
       " 'p34_high',\n",
       " 'p34_low',\n",
       " 'p34_close',\n",
       " 'p35_open',\n",
       " 'p35_high',\n",
       " 'p35_low',\n",
       " 'p35_close',\n",
       " 'p36_open',\n",
       " 'p36_high',\n",
       " 'p36_low',\n",
       " 'p36_close',\n",
       " 'p37_open',\n",
       " 'p37_high',\n",
       " 'p37_low',\n",
       " 'p37_close',\n",
       " 'p38_open',\n",
       " 'p38_high',\n",
       " 'p38_low',\n",
       " 'p38_close',\n",
       " 'p39_open',\n",
       " 'p39_high',\n",
       " 'p39_low',\n",
       " 'p39_close',\n",
       " 'p40_open',\n",
       " 'p40_high',\n",
       " 'p40_low',\n",
       " 'p40_close',\n",
       " 'p41_open',\n",
       " 'p41_high',\n",
       " 'p41_low',\n",
       " 'p41_close',\n",
       " 'p42_open',\n",
       " 'p42_high',\n",
       " 'p42_low',\n",
       " 'p42_close',\n",
       " 'p43_open',\n",
       " 'p43_high',\n",
       " 'p43_low',\n",
       " 'p43_close',\n",
       " 'p44_open',\n",
       " 'p44_high',\n",
       " 'p44_low',\n",
       " 'p44_close',\n",
       " 'p45_open',\n",
       " 'p45_high',\n",
       " 'p45_low',\n",
       " 'p45_close',\n",
       " 'p46_open',\n",
       " 'p46_high',\n",
       " 'p46_low',\n",
       " 'p46_close',\n",
       " 'p47_open',\n",
       " 'p47_high',\n",
       " 'p47_low',\n",
       " 'p47_close']"
      ]
     },
     "execution_count": 28,
     "metadata": {},
     "output_type": "execute_result"
    }
   ],
   "source": [
    "selected_columns = []\n",
    "selected_columns += signal_columns\n",
    "selected_columns"
   ]
  },
  {
   "cell_type": "code",
   "execution_count": 29,
   "metadata": {
    "ExecuteTime": {
     "end_time": "2021-05-30T12:01:02.658322Z",
     "start_time": "2021-05-30T12:01:02.655114Z"
    },
    "tags": []
   },
   "outputs": [
    {
     "data": {
      "text/plain": [
       "'norm_next_close'"
      ]
     },
     "execution_count": 29,
     "metadata": {},
     "output_type": "execute_result"
    }
   ],
   "source": [
    "target_column = 'norm_next_close'\n",
    "target_column"
   ]
  },
  {
   "cell_type": "markdown",
   "metadata": {},
   "source": [
    "# Train validation test split"
   ]
  },
  {
   "cell_type": "code",
   "execution_count": 30,
   "metadata": {
    "ExecuteTime": {
     "end_time": "2021-05-30T12:01:03.795014Z",
     "start_time": "2021-05-30T12:01:03.761582Z"
    }
   },
   "outputs": [
    {
     "name": "stdout",
     "output_type": "stream",
     "text": [
      "train 28096\n",
      "val 2224\n",
      "test 2293\n"
     ]
    }
   ],
   "source": [
    "train_df = df.loc[: '2020-11-01']\n",
    "val_df = df.loc['2020-11-01': '2021-02-01']\n",
    "test_df = df.loc['2021-02-01': ]\n",
    "print('train', len(train_df))\n",
    "print('val', len(val_df))\n",
    "print('test', len(test_df))"
   ]
  },
  {
   "cell_type": "markdown",
   "metadata": {},
   "source": [
    "# Model building"
   ]
  },
  {
   "cell_type": "code",
   "execution_count": 31,
   "metadata": {
    "ExecuteTime": {
     "end_time": "2021-05-30T12:01:06.242193Z",
     "start_time": "2021-05-30T12:01:06.080161Z"
    }
   },
   "outputs": [],
   "source": [
    "import lightgbm as lgb\n",
    "from sklearn.metrics import mean_squared_error, mean_absolute_error"
   ]
  },
  {
   "cell_type": "code",
   "execution_count": 32,
   "metadata": {
    "ExecuteTime": {
     "end_time": "2021-05-30T12:01:08.477469Z",
     "start_time": "2021-05-30T12:01:08.474442Z"
    }
   },
   "outputs": [],
   "source": [
    "def post_process(y):\n",
    "    y = scaler.inverse_transform_target(y)\n",
    "    return y"
   ]
  },
  {
   "cell_type": "code",
   "execution_count": 33,
   "metadata": {
    "ExecuteTime": {
     "end_time": "2021-05-30T12:01:12.922706Z",
     "start_time": "2021-05-30T12:01:10.631850Z"
    }
   },
   "outputs": [
    {
     "name": "stdout",
     "output_type": "stream",
     "text": [
      "[LightGBM] [Warning] feature_fraction is set with sub_feature=0.8, colsample_bytree=1.0 will be ignored. Current value: feature_fraction=0.8\n",
      "[LightGBM] [Warning] bagging_fraction is set=0.8, subsample=1.0 will be ignored. Current value: bagging_fraction=0.8\n",
      "[1]\ttrain's rmse: 1.49734\ttrain's l2: 2.24201\tval's rmse: 1.44911\tval's l2: 2.09992\n",
      "Training until validation scores don't improve for 30 rounds\n",
      "[2]\ttrain's rmse: 1.46533\ttrain's l2: 2.1472\tval's rmse: 1.41723\tval's l2: 2.00853\n",
      "[3]\ttrain's rmse: 1.43424\ttrain's l2: 2.05705\tval's rmse: 1.38622\tval's l2: 1.92161\n",
      "[4]\ttrain's rmse: 1.40405\ttrain's l2: 1.97137\tval's rmse: 1.35614\tval's l2: 1.83912\n",
      "[5]\ttrain's rmse: 1.37545\ttrain's l2: 1.89187\tval's rmse: 1.32797\tval's l2: 1.7635\n",
      "[6]\ttrain's rmse: 1.34692\ttrain's l2: 1.81419\tval's rmse: 1.29978\tval's l2: 1.68944\n",
      "[7]\ttrain's rmse: 1.31922\ttrain's l2: 1.74033\tval's rmse: 1.2724\tval's l2: 1.619\n",
      "[8]\ttrain's rmse: 1.29231\ttrain's l2: 1.67006\tval's rmse: 1.24578\tval's l2: 1.55198\n",
      "[9]\ttrain's rmse: 1.2662\ttrain's l2: 1.60325\tval's rmse: 1.21997\tval's l2: 1.48832\n",
      "[10]\ttrain's rmse: 1.24219\ttrain's l2: 1.54304\tval's rmse: 1.19632\tval's l2: 1.43118\n",
      "[11]\ttrain's rmse: 1.21756\ttrain's l2: 1.48245\tval's rmse: 1.17199\tval's l2: 1.37356\n",
      "[12]\ttrain's rmse: 1.19364\ttrain's l2: 1.42477\tval's rmse: 1.14852\tval's l2: 1.31909\n",
      "[13]\ttrain's rmse: 1.17043\ttrain's l2: 1.36991\tval's rmse: 1.12555\tval's l2: 1.26686\n",
      "[14]\ttrain's rmse: 1.14793\ttrain's l2: 1.31774\tval's rmse: 1.10319\tval's l2: 1.21703\n",
      "[15]\ttrain's rmse: 1.12728\ttrain's l2: 1.27075\tval's rmse: 1.08288\tval's l2: 1.17263\n",
      "[16]\ttrain's rmse: 1.1061\ttrain's l2: 1.22345\tval's rmse: 1.06181\tval's l2: 1.12745\n",
      "[17]\ttrain's rmse: 1.08555\ttrain's l2: 1.17841\tval's rmse: 1.04148\tval's l2: 1.08469\n",
      "[18]\ttrain's rmse: 1.06616\ttrain's l2: 1.13669\tval's rmse: 1.02239\tval's l2: 1.04529\n",
      "[19]\ttrain's rmse: 1.04683\ttrain's l2: 1.09586\tval's rmse: 1.0033\tval's l2: 1.00661\n",
      "[20]\ttrain's rmse: 1.02807\ttrain's l2: 1.05693\tval's rmse: 0.985001\tval's l2: 0.970227\n",
      "[21]\ttrain's rmse: 1.00991\ttrain's l2: 1.01991\tval's rmse: 0.967093\tval's l2: 0.935268\n",
      "[22]\ttrain's rmse: 0.992339\ttrain's l2: 0.984737\tval's rmse: 0.949599\tval's l2: 0.901739\n",
      "[23]\ttrain's rmse: 0.975311\ttrain's l2: 0.951232\tval's rmse: 0.933016\tval's l2: 0.870518\n",
      "[24]\ttrain's rmse: 0.959244\ttrain's l2: 0.920148\tval's rmse: 0.917358\tval's l2: 0.841545\n",
      "[25]\ttrain's rmse: 0.943246\ttrain's l2: 0.889714\tval's rmse: 0.90175\tval's l2: 0.813153\n",
      "[26]\ttrain's rmse: 0.927772\ttrain's l2: 0.860762\tval's rmse: 0.886626\tval's l2: 0.786105\n",
      "[27]\ttrain's rmse: 0.912818\ttrain's l2: 0.833237\tval's rmse: 0.872119\tval's l2: 0.760592\n",
      "[28]\ttrain's rmse: 0.898359\ttrain's l2: 0.807048\tval's rmse: 0.857918\tval's l2: 0.736024\n",
      "[29]\ttrain's rmse: 0.884346\ttrain's l2: 0.782068\tval's rmse: 0.844238\tval's l2: 0.712737\n",
      "[30]\ttrain's rmse: 0.871099\ttrain's l2: 0.758814\tval's rmse: 0.831516\tval's l2: 0.691418\n",
      "[31]\ttrain's rmse: 0.857988\ttrain's l2: 0.736143\tval's rmse: 0.818904\tval's l2: 0.670603\n",
      "[32]\ttrain's rmse: 0.845292\ttrain's l2: 0.714518\tval's rmse: 0.80653\tval's l2: 0.650491\n",
      "[33]\ttrain's rmse: 0.833033\ttrain's l2: 0.693943\tval's rmse: 0.79471\tval's l2: 0.631564\n",
      "[34]\ttrain's rmse: 0.821506\ttrain's l2: 0.674871\tval's rmse: 0.783684\tval's l2: 0.61416\n",
      "[35]\ttrain's rmse: 0.810083\ttrain's l2: 0.656234\tval's rmse: 0.772739\tval's l2: 0.597126\n",
      "[36]\ttrain's rmse: 0.798985\ttrain's l2: 0.638377\tval's rmse: 0.762213\tval's l2: 0.580968\n",
      "[37]\ttrain's rmse: 0.78827\ttrain's l2: 0.621369\tval's rmse: 0.751892\tval's l2: 0.565341\n",
      "[38]\ttrain's rmse: 0.778439\ttrain's l2: 0.605968\tval's rmse: 0.742438\tval's l2: 0.551215\n",
      "[39]\ttrain's rmse: 0.768516\ttrain's l2: 0.590617\tval's rmse: 0.732895\tval's l2: 0.537135\n",
      "[40]\ttrain's rmse: 0.75916\ttrain's l2: 0.576324\tval's rmse: 0.723861\tval's l2: 0.523975\n",
      "[41]\ttrain's rmse: 0.749398\ttrain's l2: 0.561597\tval's rmse: 0.71485\tval's l2: 0.51101\n",
      "[42]\ttrain's rmse: 0.740287\ttrain's l2: 0.548024\tval's rmse: 0.706565\tval's l2: 0.499234\n",
      "[43]\ttrain's rmse: 0.731012\ttrain's l2: 0.534379\tval's rmse: 0.697891\tval's l2: 0.487052\n",
      "[44]\ttrain's rmse: 0.722194\ttrain's l2: 0.521564\tval's rmse: 0.689804\tval's l2: 0.47583\n",
      "[45]\ttrain's rmse: 0.713527\ttrain's l2: 0.50912\tval's rmse: 0.681863\tval's l2: 0.464938\n",
      "[46]\ttrain's rmse: 0.705362\ttrain's l2: 0.497536\tval's rmse: 0.674751\tval's l2: 0.455289\n",
      "[47]\ttrain's rmse: 0.69742\ttrain's l2: 0.486395\tval's rmse: 0.66763\tval's l2: 0.44573\n",
      "[48]\ttrain's rmse: 0.689684\ttrain's l2: 0.475664\tval's rmse: 0.660689\tval's l2: 0.43651\n",
      "[49]\ttrain's rmse: 0.682123\ttrain's l2: 0.465292\tval's rmse: 0.653776\tval's l2: 0.427423\n",
      "[50]\ttrain's rmse: 0.674969\ttrain's l2: 0.455583\tval's rmse: 0.647482\tval's l2: 0.419233\n",
      "[51]\ttrain's rmse: 0.668364\ttrain's l2: 0.44671\tval's rmse: 0.641425\tval's l2: 0.411426\n",
      "[52]\ttrain's rmse: 0.661835\ttrain's l2: 0.438026\tval's rmse: 0.635707\tval's l2: 0.404124\n",
      "[53]\ttrain's rmse: 0.655522\ttrain's l2: 0.429709\tval's rmse: 0.629838\tval's l2: 0.396696\n",
      "[54]\ttrain's rmse: 0.649512\ttrain's l2: 0.421866\tval's rmse: 0.624522\tval's l2: 0.390028\n",
      "[55]\ttrain's rmse: 0.643663\ttrain's l2: 0.414302\tval's rmse: 0.619302\tval's l2: 0.383535\n",
      "[56]\ttrain's rmse: 0.637992\ttrain's l2: 0.407034\tval's rmse: 0.614532\tval's l2: 0.377649\n",
      "[57]\ttrain's rmse: 0.632851\ttrain's l2: 0.4005\tval's rmse: 0.609904\tval's l2: 0.371983\n",
      "[58]\ttrain's rmse: 0.627651\ttrain's l2: 0.393946\tval's rmse: 0.605377\tval's l2: 0.366481\n",
      "[59]\ttrain's rmse: 0.622909\ttrain's l2: 0.388015\tval's rmse: 0.601152\tval's l2: 0.361384\n",
      "[60]\ttrain's rmse: 0.61818\ttrain's l2: 0.382147\tval's rmse: 0.597204\tval's l2: 0.356652\n",
      "[61]\ttrain's rmse: 0.613995\ttrain's l2: 0.37699\tval's rmse: 0.593869\tval's l2: 0.352681\n",
      "[62]\ttrain's rmse: 0.609666\ttrain's l2: 0.371693\tval's rmse: 0.590137\tval's l2: 0.348262\n",
      "[63]\ttrain's rmse: 0.605628\ttrain's l2: 0.366785\tval's rmse: 0.58678\tval's l2: 0.34431\n",
      "[64]\ttrain's rmse: 0.601304\ttrain's l2: 0.361567\tval's rmse: 0.583249\tval's l2: 0.340179\n",
      "Did not meet early stopping. Best iteration is:\n",
      "[64]\ttrain's rmse: 0.601304\ttrain's l2: 0.361567\tval's rmse: 0.583249\tval's l2: 0.340179\n"
     ]
    },
    {
     "data": {
      "text/plain": [
       "LGBMRegressor(bagging_fraction=0.8, bagging_seed=42, boosting_type='goss',\n",
       "              feature_fraction_seed=41, learning_rate=0.025, max_depth=8,\n",
       "              metric='mse', n_estimators=64, num_leaves=100, sub_feature=0.8)"
      ]
     },
     "execution_count": 33,
     "metadata": {},
     "output_type": "execute_result"
    }
   ],
   "source": [
    "model = lgb.LGBMRegressor(max_depth=8,\n",
    "                          boosting_type='goss',\n",
    "                          learning_rate=0.025,\n",
    "                          num_leaves=100,\n",
    "                          n_estimators=64,\n",
    "                          bagging_fraction=0.8,\n",
    "                          sub_feature=0.8,\n",
    "                          metric='mse',\n",
    "                          feature_fraction_seed=41,\n",
    "                          bagging_seed=42\n",
    "                          )\n",
    "model.fit(train_df[selected_columns], train_df[target_column],\n",
    "          eval_metric='rmse',\n",
    "          eval_names=['train', 'val'],\n",
    "          eval_set=[(train_df[selected_columns], train_df[target_column]),\n",
    "                    (val_df[selected_columns], val_df[target_column])],\n",
    "          verbose=True,\n",
    "          sample_weight=np.linspace(50, 100, len(train_df)),\n",
    "          early_stopping_rounds=30\n",
    "          )"
   ]
  },
  {
   "cell_type": "code",
   "execution_count": 34,
   "metadata": {
    "ExecuteTime": {
     "end_time": "2021-05-30T12:01:15.286014Z",
     "start_time": "2021-05-30T12:01:15.042249Z"
    }
   },
   "outputs": [
    {
     "data": {
      "text/html": [
       "<div>\n",
       "<style scoped>\n",
       "    .dataframe tbody tr th:only-of-type {\n",
       "        vertical-align: middle;\n",
       "    }\n",
       "\n",
       "    .dataframe tbody tr th {\n",
       "        vertical-align: top;\n",
       "    }\n",
       "\n",
       "    .dataframe thead th {\n",
       "        text-align: right;\n",
       "    }\n",
       "</style>\n",
       "<table border=\"1\" class=\"dataframe\">\n",
       "  <thead>\n",
       "    <tr style=\"text-align: right;\">\n",
       "      <th></th>\n",
       "      <th>base_volume</th>\n",
       "      <th>quote_volume</th>\n",
       "      <th>close</th>\n",
       "      <th>high</th>\n",
       "      <th>low</th>\n",
       "      <th>open</th>\n",
       "      <th>next_close</th>\n",
       "      <th>p0_open</th>\n",
       "      <th>p0_high</th>\n",
       "      <th>p0_low</th>\n",
       "      <th>...</th>\n",
       "      <th>p46_high</th>\n",
       "      <th>p46_low</th>\n",
       "      <th>p46_close</th>\n",
       "      <th>p47_open</th>\n",
       "      <th>p47_high</th>\n",
       "      <th>p47_low</th>\n",
       "      <th>p47_close</th>\n",
       "      <th>norm_next_close</th>\n",
       "      <th>norm_prediction</th>\n",
       "      <th>prediction</th>\n",
       "    </tr>\n",
       "    <tr>\n",
       "      <th>time</th>\n",
       "      <th></th>\n",
       "      <th></th>\n",
       "      <th></th>\n",
       "      <th></th>\n",
       "      <th></th>\n",
       "      <th></th>\n",
       "      <th></th>\n",
       "      <th></th>\n",
       "      <th></th>\n",
       "      <th></th>\n",
       "      <th></th>\n",
       "      <th></th>\n",
       "      <th></th>\n",
       "      <th></th>\n",
       "      <th></th>\n",
       "      <th></th>\n",
       "      <th></th>\n",
       "      <th></th>\n",
       "      <th></th>\n",
       "      <th></th>\n",
       "      <th></th>\n",
       "    </tr>\n",
       "  </thead>\n",
       "  <tbody>\n",
       "    <tr>\n",
       "      <th>2017-08-19 03:00:00</th>\n",
       "      <td>66.65000</td>\n",
       "      <td>1.964252e+04</td>\n",
       "      <td>293.22</td>\n",
       "      <td>299.84</td>\n",
       "      <td>292.83</td>\n",
       "      <td>299.84</td>\n",
       "      <td>291.87</td>\n",
       "      <td>-0.198669</td>\n",
       "      <td>-0.255710</td>\n",
       "      <td>-1.046979</td>\n",
       "      <td>...</td>\n",
       "      <td>-0.187514</td>\n",
       "      <td>0.073445</td>\n",
       "      <td>0.078579</td>\n",
       "      <td>6.739092</td>\n",
       "      <td>6.740330</td>\n",
       "      <td>-0.239086</td>\n",
       "      <td>-0.301564</td>\n",
       "      <td>-1.769478</td>\n",
       "      <td>-1.193478</td>\n",
       "      <td>295.370147</td>\n",
       "    </tr>\n",
       "    <tr>\n",
       "      <th>2017-08-19 04:00:00</th>\n",
       "      <td>42.99000</td>\n",
       "      <td>1.263183e+04</td>\n",
       "      <td>291.87</td>\n",
       "      <td>297.19</td>\n",
       "      <td>291.87</td>\n",
       "      <td>293.22</td>\n",
       "      <td>293.23</td>\n",
       "      <td>-1.541530</td>\n",
       "      <td>-1.396370</td>\n",
       "      <td>-1.160410</td>\n",
       "      <td>...</td>\n",
       "      <td>-0.152897</td>\n",
       "      <td>0.384792</td>\n",
       "      <td>0.038826</td>\n",
       "      <td>-0.141144</td>\n",
       "      <td>-0.351853</td>\n",
       "      <td>0.092082</td>\n",
       "      <td>0.105841</td>\n",
       "      <td>-1.469003</td>\n",
       "      <td>-1.299384</td>\n",
       "      <td>294.293052</td>\n",
       "    </tr>\n",
       "    <tr>\n",
       "      <th>2017-08-19 05:00:00</th>\n",
       "      <td>35.01000</td>\n",
       "      <td>1.040870e+04</td>\n",
       "      <td>293.23</td>\n",
       "      <td>299.90</td>\n",
       "      <td>291.87</td>\n",
       "      <td>291.87</td>\n",
       "      <td>289.02</td>\n",
       "      <td>-1.679412</td>\n",
       "      <td>-0.912365</td>\n",
       "      <td>-1.118885</td>\n",
       "      <td>...</td>\n",
       "      <td>0.459320</td>\n",
       "      <td>0.511669</td>\n",
       "      <td>0.894388</td>\n",
       "      <td>0.137050</td>\n",
       "      <td>-0.139728</td>\n",
       "      <td>0.405296</td>\n",
       "      <td>0.070090</td>\n",
       "      <td>-2.062468</td>\n",
       "      <td>-1.082003</td>\n",
       "      <td>295.300319</td>\n",
       "    </tr>\n",
       "    <tr>\n",
       "      <th>2017-08-19 06:00:00</th>\n",
       "      <td>45.02000</td>\n",
       "      <td>1.316110e+04</td>\n",
       "      <td>289.02</td>\n",
       "      <td>295.56</td>\n",
       "      <td>289.02</td>\n",
       "      <td>293.23</td>\n",
       "      <td>290.16</td>\n",
       "      <td>-1.395935</td>\n",
       "      <td>-1.575533</td>\n",
       "      <td>-1.477560</td>\n",
       "      <td>...</td>\n",
       "      <td>0.810273</td>\n",
       "      <td>1.193897</td>\n",
       "      <td>0.998654</td>\n",
       "      <td>0.100204</td>\n",
       "      <td>0.477486</td>\n",
       "      <td>0.540148</td>\n",
       "      <td>0.899889</td>\n",
       "      <td>-1.763771</td>\n",
       "      <td>-1.514358</td>\n",
       "      <td>291.826708</td>\n",
       "    </tr>\n",
       "    <tr>\n",
       "      <th>2017-08-19 07:00:00</th>\n",
       "      <td>112.26000</td>\n",
       "      <td>3.248597e+04</td>\n",
       "      <td>290.16</td>\n",
       "      <td>292.17</td>\n",
       "      <td>287.01</td>\n",
       "      <td>289.02</td>\n",
       "      <td>288.40</td>\n",
       "      <td>-1.933912</td>\n",
       "      <td>-1.995189</td>\n",
       "      <td>-1.679488</td>\n",
       "      <td>...</td>\n",
       "      <td>1.150580</td>\n",
       "      <td>1.441267</td>\n",
       "      <td>1.232734</td>\n",
       "      <td>0.940586</td>\n",
       "      <td>0.828547</td>\n",
       "      <td>1.207319</td>\n",
       "      <td>1.030799</td>\n",
       "      <td>-1.927981</td>\n",
       "      <td>-1.426353</td>\n",
       "      <td>291.828075</td>\n",
       "    </tr>\n",
       "    <tr>\n",
       "      <th>...</th>\n",
       "      <td>...</td>\n",
       "      <td>...</td>\n",
       "      <td>...</td>\n",
       "      <td>...</td>\n",
       "      <td>...</td>\n",
       "      <td>...</td>\n",
       "      <td>...</td>\n",
       "      <td>...</td>\n",
       "      <td>...</td>\n",
       "      <td>...</td>\n",
       "      <td>...</td>\n",
       "      <td>...</td>\n",
       "      <td>...</td>\n",
       "      <td>...</td>\n",
       "      <td>...</td>\n",
       "      <td>...</td>\n",
       "      <td>...</td>\n",
       "      <td>...</td>\n",
       "      <td>...</td>\n",
       "      <td>...</td>\n",
       "      <td>...</td>\n",
       "    </tr>\n",
       "    <tr>\n",
       "      <th>2021-05-07 19:00:00</th>\n",
       "      <td>22844.22755</td>\n",
       "      <td>8.026408e+07</td>\n",
       "      <td>3512.59</td>\n",
       "      <td>3533.76</td>\n",
       "      <td>3498.28</td>\n",
       "      <td>3525.90</td>\n",
       "      <td>3497.20</td>\n",
       "      <td>1.146306</td>\n",
       "      <td>0.640054</td>\n",
       "      <td>1.154664</td>\n",
       "      <td>...</td>\n",
       "      <td>-0.871742</td>\n",
       "      <td>-0.635231</td>\n",
       "      <td>-1.262898</td>\n",
       "      <td>0.051313</td>\n",
       "      <td>-0.455684</td>\n",
       "      <td>-0.812437</td>\n",
       "      <td>-0.473041</td>\n",
       "      <td>0.434719</td>\n",
       "      <td>0.577594</td>\n",
       "      <td>3503.162063</td>\n",
       "    </tr>\n",
       "    <tr>\n",
       "      <th>2021-05-07 20:00:00</th>\n",
       "      <td>18632.39404</td>\n",
       "      <td>6.533341e+07</td>\n",
       "      <td>3497.20</td>\n",
       "      <td>3525.62</td>\n",
       "      <td>3476.04</td>\n",
       "      <td>3512.59</td>\n",
       "      <td>3475.89</td>\n",
       "      <td>0.803488</td>\n",
       "      <td>0.438627</td>\n",
       "      <td>0.617641</td>\n",
       "      <td>...</td>\n",
       "      <td>0.696689</td>\n",
       "      <td>-0.529588</td>\n",
       "      <td>0.996289</td>\n",
       "      <td>-0.478540</td>\n",
       "      <td>-0.890917</td>\n",
       "      <td>-0.667659</td>\n",
       "      <td>-1.282518</td>\n",
       "      <td>-0.094920</td>\n",
       "      <td>0.423351</td>\n",
       "      <td>3497.505043</td>\n",
       "    </tr>\n",
       "    <tr>\n",
       "      <th>2021-05-07 21:00:00</th>\n",
       "      <td>21439.49414</td>\n",
       "      <td>7.456822e+07</td>\n",
       "      <td>3475.89</td>\n",
       "      <td>3497.80</td>\n",
       "      <td>3455.70</td>\n",
       "      <td>3497.17</td>\n",
       "      <td>3443.00</td>\n",
       "      <td>0.415424</td>\n",
       "      <td>-0.201476</td>\n",
       "      <td>0.134704</td>\n",
       "      <td>...</td>\n",
       "      <td>0.963665</td>\n",
       "      <td>1.019315</td>\n",
       "      <td>1.059053</td>\n",
       "      <td>-1.281500</td>\n",
       "      <td>0.687639</td>\n",
       "      <td>-0.549205</td>\n",
       "      <td>0.989230</td>\n",
       "      <td>-0.924808</td>\n",
       "      <td>-0.062418</td>\n",
       "      <td>3478.323968</td>\n",
       "    </tr>\n",
       "    <tr>\n",
       "      <th>2021-05-07 22:00:00</th>\n",
       "      <td>38829.22486</td>\n",
       "      <td>1.340210e+08</td>\n",
       "      <td>3443.00</td>\n",
       "      <td>3499.00</td>\n",
       "      <td>3421.11</td>\n",
       "      <td>3475.83</td>\n",
       "      <td>3479.53</td>\n",
       "      <td>-0.122868</td>\n",
       "      <td>-0.157158</td>\n",
       "      <td>-0.659029</td>\n",
       "      <td>...</td>\n",
       "      <td>0.756085</td>\n",
       "      <td>-0.012238</td>\n",
       "      <td>-0.088010</td>\n",
       "      <td>0.980005</td>\n",
       "      <td>0.986441</td>\n",
       "      <td>1.020188</td>\n",
       "      <td>1.101270</td>\n",
       "      <td>0.006917</td>\n",
       "      <td>-1.129158</td>\n",
       "      <td>3433.094702</td>\n",
       "    </tr>\n",
       "    <tr>\n",
       "      <th>2021-05-07 23:00:00</th>\n",
       "      <td>19900.24004</td>\n",
       "      <td>6.908357e+07</td>\n",
       "      <td>3479.53</td>\n",
       "      <td>3489.00</td>\n",
       "      <td>3438.59</td>\n",
       "      <td>3442.19</td>\n",
       "      <td>3476.59</td>\n",
       "      <td>-0.905019</td>\n",
       "      <td>-0.359093</td>\n",
       "      <td>-0.232733</td>\n",
       "      <td>...</td>\n",
       "      <td>-0.207300</td>\n",
       "      <td>-0.195982</td>\n",
       "      <td>-0.080468</td>\n",
       "      <td>1.102326</td>\n",
       "      <td>0.791960</td>\n",
       "      <td>0.014523</td>\n",
       "      <td>-0.066087</td>\n",
       "      <td>-0.042781</td>\n",
       "      <td>0.080531</td>\n",
       "      <td>3481.563352</td>\n",
       "    </tr>\n",
       "  </tbody>\n",
       "</table>\n",
       "<p>32565 rows × 202 columns</p>\n",
       "</div>"
      ],
      "text/plain": [
       "                     base_volume  quote_volume    close     high      low  \\\n",
       "time                                                                        \n",
       "2017-08-19 03:00:00     66.65000  1.964252e+04   293.22   299.84   292.83   \n",
       "2017-08-19 04:00:00     42.99000  1.263183e+04   291.87   297.19   291.87   \n",
       "2017-08-19 05:00:00     35.01000  1.040870e+04   293.23   299.90   291.87   \n",
       "2017-08-19 06:00:00     45.02000  1.316110e+04   289.02   295.56   289.02   \n",
       "2017-08-19 07:00:00    112.26000  3.248597e+04   290.16   292.17   287.01   \n",
       "...                          ...           ...      ...      ...      ...   \n",
       "2021-05-07 19:00:00  22844.22755  8.026408e+07  3512.59  3533.76  3498.28   \n",
       "2021-05-07 20:00:00  18632.39404  6.533341e+07  3497.20  3525.62  3476.04   \n",
       "2021-05-07 21:00:00  21439.49414  7.456822e+07  3475.89  3497.80  3455.70   \n",
       "2021-05-07 22:00:00  38829.22486  1.340210e+08  3443.00  3499.00  3421.11   \n",
       "2021-05-07 23:00:00  19900.24004  6.908357e+07  3479.53  3489.00  3438.59   \n",
       "\n",
       "                        open  next_close   p0_open   p0_high    p0_low  ...  \\\n",
       "time                                                                    ...   \n",
       "2017-08-19 03:00:00   299.84      291.87 -0.198669 -0.255710 -1.046979  ...   \n",
       "2017-08-19 04:00:00   293.22      293.23 -1.541530 -1.396370 -1.160410  ...   \n",
       "2017-08-19 05:00:00   291.87      289.02 -1.679412 -0.912365 -1.118885  ...   \n",
       "2017-08-19 06:00:00   293.23      290.16 -1.395935 -1.575533 -1.477560  ...   \n",
       "2017-08-19 07:00:00   289.02      288.40 -1.933912 -1.995189 -1.679488  ...   \n",
       "...                      ...         ...       ...       ...       ...  ...   \n",
       "2021-05-07 19:00:00  3525.90     3497.20  1.146306  0.640054  1.154664  ...   \n",
       "2021-05-07 20:00:00  3512.59     3475.89  0.803488  0.438627  0.617641  ...   \n",
       "2021-05-07 21:00:00  3497.17     3443.00  0.415424 -0.201476  0.134704  ...   \n",
       "2021-05-07 22:00:00  3475.83     3479.53 -0.122868 -0.157158 -0.659029  ...   \n",
       "2021-05-07 23:00:00  3442.19     3476.59 -0.905019 -0.359093 -0.232733  ...   \n",
       "\n",
       "                     p46_high   p46_low  p46_close  p47_open  p47_high  \\\n",
       "time                                                                     \n",
       "2017-08-19 03:00:00 -0.187514  0.073445   0.078579  6.739092  6.740330   \n",
       "2017-08-19 04:00:00 -0.152897  0.384792   0.038826 -0.141144 -0.351853   \n",
       "2017-08-19 05:00:00  0.459320  0.511669   0.894388  0.137050 -0.139728   \n",
       "2017-08-19 06:00:00  0.810273  1.193897   0.998654  0.100204  0.477486   \n",
       "2017-08-19 07:00:00  1.150580  1.441267   1.232734  0.940586  0.828547   \n",
       "...                       ...       ...        ...       ...       ...   \n",
       "2021-05-07 19:00:00 -0.871742 -0.635231  -1.262898  0.051313 -0.455684   \n",
       "2021-05-07 20:00:00  0.696689 -0.529588   0.996289 -0.478540 -0.890917   \n",
       "2021-05-07 21:00:00  0.963665  1.019315   1.059053 -1.281500  0.687639   \n",
       "2021-05-07 22:00:00  0.756085 -0.012238  -0.088010  0.980005  0.986441   \n",
       "2021-05-07 23:00:00 -0.207300 -0.195982  -0.080468  1.102326  0.791960   \n",
       "\n",
       "                      p47_low  p47_close  norm_next_close  norm_prediction  \\\n",
       "time                                                                         \n",
       "2017-08-19 03:00:00 -0.239086  -0.301564        -1.769478        -1.193478   \n",
       "2017-08-19 04:00:00  0.092082   0.105841        -1.469003        -1.299384   \n",
       "2017-08-19 05:00:00  0.405296   0.070090        -2.062468        -1.082003   \n",
       "2017-08-19 06:00:00  0.540148   0.899889        -1.763771        -1.514358   \n",
       "2017-08-19 07:00:00  1.207319   1.030799        -1.927981        -1.426353   \n",
       "...                       ...        ...              ...              ...   \n",
       "2021-05-07 19:00:00 -0.812437  -0.473041         0.434719         0.577594   \n",
       "2021-05-07 20:00:00 -0.667659  -1.282518        -0.094920         0.423351   \n",
       "2021-05-07 21:00:00 -0.549205   0.989230        -0.924808        -0.062418   \n",
       "2021-05-07 22:00:00  1.020188   1.101270         0.006917        -1.129158   \n",
       "2021-05-07 23:00:00  0.014523  -0.066087        -0.042781         0.080531   \n",
       "\n",
       "                      prediction  \n",
       "time                              \n",
       "2017-08-19 03:00:00   295.370147  \n",
       "2017-08-19 04:00:00   294.293052  \n",
       "2017-08-19 05:00:00   295.300319  \n",
       "2017-08-19 06:00:00   291.826708  \n",
       "2017-08-19 07:00:00   291.828075  \n",
       "...                          ...  \n",
       "2021-05-07 19:00:00  3503.162063  \n",
       "2021-05-07 20:00:00  3497.505043  \n",
       "2021-05-07 21:00:00  3478.323968  \n",
       "2021-05-07 22:00:00  3433.094702  \n",
       "2021-05-07 23:00:00  3481.563352  \n",
       "\n",
       "[32565 rows x 202 columns]"
      ]
     },
     "execution_count": 34,
     "metadata": {},
     "output_type": "execute_result"
    }
   ],
   "source": [
    "\n",
    "prediction = model.predict(df[selected_columns])\n",
    "df['norm_prediction'] = prediction\n",
    "df['prediction'] = post_process(prediction)\n",
    "df"
   ]
  },
  {
   "cell_type": "code",
   "execution_count": 35,
   "metadata": {
    "ExecuteTime": {
     "end_time": "2021-05-30T12:01:17.550374Z",
     "start_time": "2021-05-30T12:01:17.510118Z"
    }
   },
   "outputs": [
    {
     "name": "stdout",
     "output_type": "stream",
     "text": [
      "train 28096\n",
      "val 2224\n",
      "test 2293\n"
     ]
    }
   ],
   "source": [
    "train_df = df.loc[: '2020-11-01']\n",
    "val_df = df.loc['2020-11-01': '2021-02-01']\n",
    "test_df = df.loc['2021-02-01': ]\n",
    "print('train', len(train_df))\n",
    "print('val', len(val_df))\n",
    "print('test', len(test_df))"
   ]
  },
  {
   "cell_type": "code",
   "execution_count": 36,
   "metadata": {
    "ExecuteTime": {
     "end_time": "2021-05-30T12:01:19.662011Z",
     "start_time": "2021-05-30T12:01:19.655806Z"
    }
   },
   "outputs": [
    {
     "name": "stdout",
     "output_type": "stream",
     "text": [
      "train mae 3.0766418000397047\n",
      "val mae 8.908217497643907\n",
      "test mae 18.859920047166643\n"
     ]
    }
   ],
   "source": [
    "train_mae = mean_absolute_error(train_df['next_close'], train_df['prediction'])\n",
    "val_mae = mean_absolute_error(val_df['next_close'], val_df['prediction'])\n",
    "test_mae = mean_absolute_error(test_df['next_close'], test_df['prediction'])\n",
    "\n",
    "print('train mae', train_mae)\n",
    "print('val mae', val_mae)\n",
    "print('test mae', test_mae)"
   ]
  },
  {
   "cell_type": "code",
   "execution_count": 34,
   "metadata": {
    "ExecuteTime": {
     "end_time": "2021-05-30T12:01:21.778296Z",
     "start_time": "2021-05-30T12:01:21.772340Z"
    }
   },
   "outputs": [
    {
     "name": "stdout",
     "output_type": "stream",
     "text": [
      "train rmse 6.919259844384478\n",
      "val rmse 15.055030189468821\n",
      "test rmse 27.086546889280925\n"
     ]
    }
   ],
   "source": [
    "train_rmse = mean_squared_error(train_df['next_close'], train_df['prediction'], squared=False)\n",
    "val_rmse = mean_squared_error(val_df['next_close'], val_df['prediction'], squared=False)\n",
    "test_rmse = mean_squared_error(test_df['next_close'], test_df['prediction'], squared=False)\n",
    "\n",
    "print('train rmse', train_rmse)\n",
    "print('val rmse', val_rmse)\n",
    "print('test rmse', test_rmse)"
   ]
  },
  {
   "cell_type": "code",
   "execution_count": 37,
   "metadata": {
    "ExecuteTime": {
     "end_time": "2021-05-30T12:01:24.182480Z",
     "start_time": "2021-05-30T12:01:23.962673Z"
    }
   },
   "outputs": [
    {
     "data": {
      "text/plain": [
       "<matplotlib.axes._subplots.AxesSubplot at 0x1262c1820>"
      ]
     },
     "execution_count": 37,
     "metadata": {},
     "output_type": "execute_result"
    },
    {
     "data": {
      "image/png": "[encoded data removed]",
      "text/plain": [
       "<Figure size 432x288 with 1 Axes>"
      ]
     },
     "metadata": {
      "needs_background": "light"
     },
     "output_type": "display_data"
    }
   ],
   "source": [
    "df.loc['2021-04-01':].plot(y=['next_close', 'prediction'], title='ETH/USDT Test set')"
   ]
  },
  {
   "cell_type": "code",
   "execution_count": 38,
   "metadata": {
    "ExecuteTime": {
     "end_time": "2021-05-30T12:01:26.499983Z",
     "start_time": "2021-05-30T12:01:26.305164Z"
    }
   },
   "outputs": [
    {
     "data": {
      "text/plain": [
       "<matplotlib.axes._subplots.AxesSubplot at 0x1266f72e0>"
      ]
     },
     "execution_count": 38,
     "metadata": {},
     "output_type": "execute_result"
    },
    {
     "data": {
      "image/png": "[encoded data removed]",
      "text/plain": [
       "<Figure size 432x288 with 1 Axes>"
      ]
     },
     "metadata": {
      "needs_background": "light"
     },
     "output_type": "display_data"
    }
   ],
   "source": [
    "df.loc['2021-04-27':].plot(y=['next_close', 'prediction'], title='ETH/USDT Test set')"
   ]
  },
  {
   "cell_type": "code",
   "execution_count": 39,
   "metadata": {
    "ExecuteTime": {
     "end_time": "2021-05-30T12:01:29.833605Z",
     "start_time": "2021-05-30T12:01:28.841137Z"
    }
   },
   "outputs": [
    {
     "data": {
      "application/vnd.jupyter.widget-view+json": {
       "model_id": "eebf9bab66854cec89af9d03b2f4e0b2",
       "version_major": 2,
       "version_minor": 0
      },
      "text/plain": [
       "Canvas(toolbar=Toolbar(toolitems=[('Home', 'Reset original view', 'home', 'home'), ('Back', 'Back to previous …"
      ]
     },
     "metadata": {},
     "output_type": "display_data"
    },
    {
     "data": {
      "image/png": "[encoded data removed]",
      "text/plain": [
       "<Figure size 432x288 with 1 Axes>"
      ]
     },
     "metadata": {
      "needs_background": "light"
     },
     "output_type": "display_data"
    }
   ],
   "source": [
    "%matplotlib widget\n",
    "sns.histplot(data=df, x=\"norm_next_close\", color=\"skyblue\", label=\"Norm next_close\", kde=True)\n",
    "sns.histplot(data=df, x=\"norm_prediction\", color=\"red\", label=\"Norm Predicition\", kde=True)\n",
    "\n",
    "plt.legend() \n",
    "plt.show()"
   ]
  },
  {
   "cell_type": "code",
   "execution_count": 40,
   "metadata": {
    "ExecuteTime": {
     "end_time": "2021-05-30T12:01:33.832064Z",
     "start_time": "2021-05-30T12:01:33.615084Z"
    }
   },
   "outputs": [
    {
     "name": "stdout",
     "output_type": "stream",
     "text": [
      "count    32565.000000\n",
      "mean         0.004132\n",
      "std          0.574519\n",
      "min        -13.962827\n",
      "25%         -0.217625\n",
      "50%          0.005067\n",
      "75%          0.228438\n",
      "max         14.156852\n",
      "dtype: float64\n"
     ]
    },
    {
     "data": {
      "application/vnd.jupyter.widget-view+json": {
       "model_id": "17cc1f503a5f45d997d15eb750785b4a",
       "version_major": 2,
       "version_minor": 0
      },
      "text/plain": [
       "Canvas(toolbar=Toolbar(toolitems=[('Home', 'Reset original view', 'home', 'home'), ('Back', 'Back to previous …"
      ]
     },
     "metadata": {},
     "output_type": "display_data"
    },
    {
     "data": {
      "text/plain": [
       "<matplotlib.axes._subplots.AxesSubplot at 0x128b59fa0>"
      ]
     },
     "execution_count": 40,
     "metadata": {},
     "output_type": "execute_result"
    },
    {
     "data": {
      "image/png": "[encoded data removed]",
      "text/plain": [
       "<Figure size 432x288 with 1 Axes>"
      ]
     },
     "metadata": {
      "needs_background": "light"
     },
     "output_type": "display_data"
    }
   ],
   "source": [
    "last_close_diff = df['norm_next_close'] - df['p0_close']\n",
    "print(last_close_diff.describe())\n",
    "last_close_diff.hist()"
   ]
  },
  {
   "cell_type": "code",
   "execution_count": 41,
   "metadata": {
    "ExecuteTime": {
     "end_time": "2021-05-30T12:01:36.255109Z",
     "start_time": "2021-05-30T12:01:36.072253Z"
    }
   },
   "outputs": [
    {
     "name": "stdout",
     "output_type": "stream",
     "text": [
      "count    32565.000000\n",
      "mean        -0.005957\n",
      "std          0.271401\n",
      "min         -2.460282\n",
      "25%         -0.207629\n",
      "50%         -0.010602\n",
      "75%          0.180567\n",
      "max          2.925441\n",
      "dtype: float64\n"
     ]
    },
    {
     "data": {
      "application/vnd.jupyter.widget-view+json": {
       "model_id": "81cad0cbe89643cbb947c66baf9070d6",
       "version_major": 2,
       "version_minor": 0
      },
      "text/plain": [
       "Canvas(toolbar=Toolbar(toolitems=[('Home', 'Reset original view', 'home', 'home'), ('Back', 'Back to previous …"
      ]
     },
     "metadata": {},
     "output_type": "display_data"
    },
    {
     "data": {
      "text/plain": [
       "<matplotlib.axes._subplots.AxesSubplot at 0x128bbfa90>"
      ]
     },
     "execution_count": 41,
     "metadata": {},
     "output_type": "execute_result"
    },
    {
     "data": {
      "image/png": "[encoded data removed]",
      "text/plain": [
       "<Figure size 432x288 with 1 Axes>"
      ]
     },
     "metadata": {
      "needs_background": "light"
     },
     "output_type": "display_data"
    }
   ],
   "source": [
    "last_close_diff = df['norm_prediction'] - df['p0_close']\n",
    "print(last_close_diff.describe())\n",
    "last_close_diff.hist()"
   ]
  },
  {
   "cell_type": "code",
   "execution_count": 42,
   "metadata": {
    "ExecuteTime": {
     "end_time": "2021-05-30T12:01:39.545761Z",
     "start_time": "2021-05-30T12:01:38.452181Z"
    }
   },
   "outputs": [
    {
     "data": {
      "application/vnd.jupyter.widget-view+json": {
       "model_id": "890cc8b5ed11487aa63ca339d19ed3e9",
       "version_major": 2,
       "version_minor": 0
      },
      "text/plain": [
       "Canvas(toolbar=Toolbar(toolitems=[('Home', 'Reset original view', 'home', 'home'), ('Back', 'Back to previous …"
      ]
     },
     "metadata": {},
     "output_type": "display_data"
    },
    {
     "data": {
      "text/plain": [
       "<matplotlib.axes._subplots.AxesSubplot at 0x128c50970>"
      ]
     },
     "execution_count": 42,
     "metadata": {},
     "output_type": "execute_result"
    }
   ],
   "source": [
    "%matplotlib widget\n",
    "\n",
    "sns.histplot(data=df['norm_next_close'] - df['p0_close'], color=\"skyblue\", label=\"next_close\", kde=True)\n",
    "sns.histplot(data=df['norm_prediction'] - df['p0_close'], color=\"red\", label=\"predicition\", kde=True)"
   ]
  },
  {
   "cell_type": "code",
   "execution_count": 43,
   "metadata": {
    "ExecuteTime": {
     "end_time": "2021-05-30T12:01:41.964921Z",
     "start_time": "2021-05-30T12:01:41.735175Z"
    }
   },
   "outputs": [
    {
     "data": {
      "application/vnd.jupyter.widget-view+json": {
       "model_id": "ff9cd30d9ee640ed9fa7d9b2f505d246",
       "version_major": 2,
       "version_minor": 0
      },
      "text/plain": [
       "Canvas(toolbar=Toolbar(toolitems=[('Home', 'Reset original view', 'home', 'home'), ('Back', 'Back to previous …"
      ]
     },
     "metadata": {},
     "output_type": "display_data"
    },
    {
     "data": {
      "text/plain": [
       "<matplotlib.axes._subplots.AxesSubplot at 0x12991b460>"
      ]
     },
     "execution_count": 43,
     "metadata": {},
     "output_type": "execute_result"
    }
   ],
   "source": [
    "df.plot(x='p0_close', y='norm_prediction', kind='scatter')"
   ]
  },
  {
   "cell_type": "code",
   "execution_count": 44,
   "metadata": {
    "ExecuteTime": {
     "end_time": "2021-05-30T12:01:44.590030Z",
     "start_time": "2021-05-30T12:01:44.122874Z"
    }
   },
   "outputs": [
    {
     "data": {
      "application/vnd.jupyter.widget-view+json": {
       "model_id": "1e29391d34e346a3a8f18c9eb815dd0d",
       "version_major": 2,
       "version_minor": 0
      },
      "text/plain": [
       "Canvas(toolbar=Toolbar(toolitems=[('Home', 'Reset original view', 'home', 'home'), ('Back', 'Back to previous …"
      ]
     },
     "metadata": {},
     "output_type": "display_data"
    }
   ],
   "source": [
    "%matplotlib widget\n",
    "sns.histplot(data=df, x=\"next_close\", color=\"skyblue\", label=\"next_close\", kde=True)\n",
    "sns.histplot(data=df, x=\"prediction\", color=\"red\", label=\"predicition\", kde=True)\n",
    "\n",
    "plt.legend() \n",
    "plt.show()"
   ]
  },
  {
   "cell_type": "code",
   "execution_count": 45,
   "metadata": {
    "ExecuteTime": {
     "end_time": "2021-05-30T12:01:46.800742Z",
     "start_time": "2021-05-30T12:01:46.797850Z"
    }
   },
   "outputs": [],
   "source": [
    "plt.show()"
   ]
  },
  {
   "cell_type": "markdown",
   "metadata": {},
   "source": [
    "# Export model"
   ]
  },
  {
   "cell_type": "code",
   "execution_count": null,
   "metadata": {
    "ExecuteTime": {
     "end_time": "2021-05-26T09:58:19.493050Z",
     "start_time": "2021-05-26T09:58:15.498Z"
    }
   },
   "outputs": [],
   "source": [
    "with open('bin/lightgbm_regression_h1-window48.pickle', 'wb') as f:\n",
    "    pickle.dump(model, f)"
   ]
  },
  {
   "cell_type": "code",
   "execution_count": null,
   "metadata": {},
   "outputs": [],
   "source": []
  }
 ],
 "metadata": {
  "kernelspec": {
   "display_name": "Python 3",
   "language": "python",
   "name": "python3"
  },
  "language_info": {
   "codemirror_mode": {
    "name": "ipython",
    "version": 3
   },
   "file_extension": ".py",
   "mimetype": "text/x-python",
   "name": "python",
   "nbconvert_exporter": "python",
   "pygments_lexer": "ipython3",
   "version": "3.8.5"
  },
  "varInspector": {
   "cols": {
    "lenName": 16,
    "lenType": 16,
    "lenVar": 40
   },
   "kernels_config": {
    "python": {
     "delete_cmd_postfix": "",
     "delete_cmd_prefix": "del ",
     "library": "var_list.py",
     "varRefreshCmd": "print(var_dic_list())"
    },
    "r": {
     "delete_cmd_postfix": ") ",
     "delete_cmd_prefix": "rm(",
     "library": "var_list.r",
     "varRefreshCmd": "cat(var_dic_list()) "
    }
   },
   "types_to_exclude": [
    "module",
    "function",
    "builtin_function_or_method",
    "instance",
    "_Feature"
   ],
   "window_display": false
  }
 },
 "nbformat": 4,
 "nbformat_minor": 4
}
